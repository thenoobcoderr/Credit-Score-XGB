{
 "cells": [
  {
   "cell_type": "markdown",
   "id": "b019dc6c",
   "metadata": {},
   "source": [
    "# Credit Score Classification"
   ]
  },
  {
   "cell_type": "code",
   "execution_count": 8,
   "id": "183de7e2",
   "metadata": {},
   "outputs": [],
   "source": [
    "import pandas as pd\n",
    "import numpy as np\n",
    "import matplotlib.pyplot as plt"
   ]
  },
  {
   "cell_type": "code",
   "execution_count": 9,
   "id": "1666c295",
   "metadata": {},
   "outputs": [],
   "source": [
    "#import test and training data\n",
    "traindata=pd.read_csv(r'E:\\LearningPython\\Neural Networks\\Credit Score\\Dataset\\archive\\train.csv', low_memory=False)\n",
    "testdata=pd.read_csv(r'E:\\LearningPython\\Neural Networks\\Credit Score\\Dataset\\archive\\test.csv', low_memory=False)"
   ]
  },
  {
   "cell_type": "code",
   "execution_count": 10,
   "id": "69b8f48b",
   "metadata": {},
   "outputs": [],
   "source": [
    "pd.set_option('display.max_columns', 35)"
   ]
  },
  {
   "cell_type": "code",
   "execution_count": 11,
   "id": "fa530ed3",
   "metadata": {},
   "outputs": [],
   "source": [
    "import sklearn\n",
    "from sklearn.model_selection import train_test_split\n",
    "from sklearn.preprocessing import StandardScaler, PowerTransformer\n",
    "from sklearn.preprocessing import OneHotEncoder, LabelEncoder\n",
    "from sklearn.model_selection import StratifiedKFold\n",
    "from sklearn.model_selection import GridSearchCV, RandomizedSearchCV\n",
    "from sklearn.metrics import classification_report, confusion_matrix, f1_score, precision_recall_curve, ConfusionMatrixDisplay, accuracy_score\n",
    "from imblearn.over_sampling import SMOTE"
   ]
  },
  {
   "cell_type": "code",
   "execution_count": 12,
   "id": "3213f5c6",
   "metadata": {},
   "outputs": [],
   "source": [
    "from sklearn.linear_model import LogisticRegression\n",
    "from sklearn.tree import DecisionTreeClassifier\n",
    "from sklearn.ensemble import RandomForestClassifier\n",
    "from xgboost import XGBClassifier\n"
   ]
  },
  {
   "cell_type": "code",
   "execution_count": null,
   "id": "c9cd6d81",
   "metadata": {},
   "outputs": [],
   "source": []
  },
  {
   "cell_type": "markdown",
   "id": "f98530f9",
   "metadata": {},
   "source": [
    "# Data Study"
   ]
  },
  {
   "cell_type": "code",
   "execution_count": 13,
   "id": "dd1de9df",
   "metadata": {},
   "outputs": [
    {
     "data": {
      "text/html": [
       "<div>\n",
       "<style scoped>\n",
       "    .dataframe tbody tr th:only-of-type {\n",
       "        vertical-align: middle;\n",
       "    }\n",
       "\n",
       "    .dataframe tbody tr th {\n",
       "        vertical-align: top;\n",
       "    }\n",
       "\n",
       "    .dataframe thead th {\n",
       "        text-align: right;\n",
       "    }\n",
       "</style>\n",
       "<table border=\"1\" class=\"dataframe\">\n",
       "  <thead>\n",
       "    <tr style=\"text-align: right;\">\n",
       "      <th></th>\n",
       "      <th>ID</th>\n",
       "      <th>Customer_ID</th>\n",
       "      <th>Month</th>\n",
       "      <th>Name</th>\n",
       "      <th>Age</th>\n",
       "      <th>SSN</th>\n",
       "      <th>Occupation</th>\n",
       "      <th>Annual_Income</th>\n",
       "      <th>Monthly_Inhand_Salary</th>\n",
       "      <th>Num_Bank_Accounts</th>\n",
       "      <th>Num_Credit_Card</th>\n",
       "      <th>Interest_Rate</th>\n",
       "      <th>Num_of_Loan</th>\n",
       "      <th>Type_of_Loan</th>\n",
       "      <th>Delay_from_due_date</th>\n",
       "      <th>Num_of_Delayed_Payment</th>\n",
       "      <th>Changed_Credit_Limit</th>\n",
       "      <th>Num_Credit_Inquiries</th>\n",
       "      <th>Credit_Mix</th>\n",
       "      <th>Outstanding_Debt</th>\n",
       "      <th>Credit_Utilization_Ratio</th>\n",
       "      <th>Credit_History_Age</th>\n",
       "      <th>Payment_of_Min_Amount</th>\n",
       "      <th>Total_EMI_per_month</th>\n",
       "      <th>Amount_invested_monthly</th>\n",
       "      <th>Payment_Behaviour</th>\n",
       "      <th>Monthly_Balance</th>\n",
       "      <th>Credit_Score</th>\n",
       "    </tr>\n",
       "  </thead>\n",
       "  <tbody>\n",
       "    <tr>\n",
       "      <th>0</th>\n",
       "      <td>0x1602</td>\n",
       "      <td>CUS_0xd40</td>\n",
       "      <td>January</td>\n",
       "      <td>Aaron Maashoh</td>\n",
       "      <td>23</td>\n",
       "      <td>821-00-0265</td>\n",
       "      <td>Scientist</td>\n",
       "      <td>19114.12</td>\n",
       "      <td>1824.843333</td>\n",
       "      <td>3</td>\n",
       "      <td>4</td>\n",
       "      <td>3</td>\n",
       "      <td>4</td>\n",
       "      <td>Auto Loan, Credit-Builder Loan, Personal Loan,...</td>\n",
       "      <td>3</td>\n",
       "      <td>7</td>\n",
       "      <td>11.27</td>\n",
       "      <td>4.0</td>\n",
       "      <td>_</td>\n",
       "      <td>809.98</td>\n",
       "      <td>26.822620</td>\n",
       "      <td>22 Years and 1 Months</td>\n",
       "      <td>No</td>\n",
       "      <td>49.574949</td>\n",
       "      <td>80.41529543900253</td>\n",
       "      <td>High_spent_Small_value_payments</td>\n",
       "      <td>312.49408867943663</td>\n",
       "      <td>Good</td>\n",
       "    </tr>\n",
       "    <tr>\n",
       "      <th>1</th>\n",
       "      <td>0x1603</td>\n",
       "      <td>CUS_0xd40</td>\n",
       "      <td>February</td>\n",
       "      <td>Aaron Maashoh</td>\n",
       "      <td>23</td>\n",
       "      <td>821-00-0265</td>\n",
       "      <td>Scientist</td>\n",
       "      <td>19114.12</td>\n",
       "      <td>NaN</td>\n",
       "      <td>3</td>\n",
       "      <td>4</td>\n",
       "      <td>3</td>\n",
       "      <td>4</td>\n",
       "      <td>Auto Loan, Credit-Builder Loan, Personal Loan,...</td>\n",
       "      <td>-1</td>\n",
       "      <td>NaN</td>\n",
       "      <td>11.27</td>\n",
       "      <td>4.0</td>\n",
       "      <td>Good</td>\n",
       "      <td>809.98</td>\n",
       "      <td>31.944960</td>\n",
       "      <td>NaN</td>\n",
       "      <td>No</td>\n",
       "      <td>49.574949</td>\n",
       "      <td>118.28022162236736</td>\n",
       "      <td>Low_spent_Large_value_payments</td>\n",
       "      <td>284.62916249607184</td>\n",
       "      <td>Good</td>\n",
       "    </tr>\n",
       "    <tr>\n",
       "      <th>2</th>\n",
       "      <td>0x1604</td>\n",
       "      <td>CUS_0xd40</td>\n",
       "      <td>March</td>\n",
       "      <td>Aaron Maashoh</td>\n",
       "      <td>-500</td>\n",
       "      <td>821-00-0265</td>\n",
       "      <td>Scientist</td>\n",
       "      <td>19114.12</td>\n",
       "      <td>NaN</td>\n",
       "      <td>3</td>\n",
       "      <td>4</td>\n",
       "      <td>3</td>\n",
       "      <td>4</td>\n",
       "      <td>Auto Loan, Credit-Builder Loan, Personal Loan,...</td>\n",
       "      <td>3</td>\n",
       "      <td>7</td>\n",
       "      <td>_</td>\n",
       "      <td>4.0</td>\n",
       "      <td>Good</td>\n",
       "      <td>809.98</td>\n",
       "      <td>28.609352</td>\n",
       "      <td>22 Years and 3 Months</td>\n",
       "      <td>No</td>\n",
       "      <td>49.574949</td>\n",
       "      <td>81.699521264648</td>\n",
       "      <td>Low_spent_Medium_value_payments</td>\n",
       "      <td>331.2098628537912</td>\n",
       "      <td>Good</td>\n",
       "    </tr>\n",
       "    <tr>\n",
       "      <th>3</th>\n",
       "      <td>0x1605</td>\n",
       "      <td>CUS_0xd40</td>\n",
       "      <td>April</td>\n",
       "      <td>Aaron Maashoh</td>\n",
       "      <td>23</td>\n",
       "      <td>821-00-0265</td>\n",
       "      <td>Scientist</td>\n",
       "      <td>19114.12</td>\n",
       "      <td>NaN</td>\n",
       "      <td>3</td>\n",
       "      <td>4</td>\n",
       "      <td>3</td>\n",
       "      <td>4</td>\n",
       "      <td>Auto Loan, Credit-Builder Loan, Personal Loan,...</td>\n",
       "      <td>5</td>\n",
       "      <td>4</td>\n",
       "      <td>6.27</td>\n",
       "      <td>4.0</td>\n",
       "      <td>Good</td>\n",
       "      <td>809.98</td>\n",
       "      <td>31.377862</td>\n",
       "      <td>22 Years and 4 Months</td>\n",
       "      <td>No</td>\n",
       "      <td>49.574949</td>\n",
       "      <td>199.4580743910713</td>\n",
       "      <td>Low_spent_Small_value_payments</td>\n",
       "      <td>223.45130972736786</td>\n",
       "      <td>Good</td>\n",
       "    </tr>\n",
       "    <tr>\n",
       "      <th>4</th>\n",
       "      <td>0x1606</td>\n",
       "      <td>CUS_0xd40</td>\n",
       "      <td>May</td>\n",
       "      <td>Aaron Maashoh</td>\n",
       "      <td>23</td>\n",
       "      <td>821-00-0265</td>\n",
       "      <td>Scientist</td>\n",
       "      <td>19114.12</td>\n",
       "      <td>1824.843333</td>\n",
       "      <td>3</td>\n",
       "      <td>4</td>\n",
       "      <td>3</td>\n",
       "      <td>4</td>\n",
       "      <td>Auto Loan, Credit-Builder Loan, Personal Loan,...</td>\n",
       "      <td>6</td>\n",
       "      <td>NaN</td>\n",
       "      <td>11.27</td>\n",
       "      <td>4.0</td>\n",
       "      <td>Good</td>\n",
       "      <td>809.98</td>\n",
       "      <td>24.797347</td>\n",
       "      <td>22 Years and 5 Months</td>\n",
       "      <td>No</td>\n",
       "      <td>49.574949</td>\n",
       "      <td>41.420153086217326</td>\n",
       "      <td>High_spent_Medium_value_payments</td>\n",
       "      <td>341.48923103222177</td>\n",
       "      <td>Good</td>\n",
       "    </tr>\n",
       "  </tbody>\n",
       "</table>\n",
       "</div>"
      ],
      "text/plain": [
       "       ID Customer_ID     Month           Name   Age          SSN Occupation  \\\n",
       "0  0x1602   CUS_0xd40   January  Aaron Maashoh    23  821-00-0265  Scientist   \n",
       "1  0x1603   CUS_0xd40  February  Aaron Maashoh    23  821-00-0265  Scientist   \n",
       "2  0x1604   CUS_0xd40     March  Aaron Maashoh  -500  821-00-0265  Scientist   \n",
       "3  0x1605   CUS_0xd40     April  Aaron Maashoh    23  821-00-0265  Scientist   \n",
       "4  0x1606   CUS_0xd40       May  Aaron Maashoh    23  821-00-0265  Scientist   \n",
       "\n",
       "  Annual_Income  Monthly_Inhand_Salary  Num_Bank_Accounts  Num_Credit_Card  \\\n",
       "0      19114.12            1824.843333                  3                4   \n",
       "1      19114.12                    NaN                  3                4   \n",
       "2      19114.12                    NaN                  3                4   \n",
       "3      19114.12                    NaN                  3                4   \n",
       "4      19114.12            1824.843333                  3                4   \n",
       "\n",
       "   Interest_Rate Num_of_Loan  \\\n",
       "0              3           4   \n",
       "1              3           4   \n",
       "2              3           4   \n",
       "3              3           4   \n",
       "4              3           4   \n",
       "\n",
       "                                        Type_of_Loan  Delay_from_due_date  \\\n",
       "0  Auto Loan, Credit-Builder Loan, Personal Loan,...                    3   \n",
       "1  Auto Loan, Credit-Builder Loan, Personal Loan,...                   -1   \n",
       "2  Auto Loan, Credit-Builder Loan, Personal Loan,...                    3   \n",
       "3  Auto Loan, Credit-Builder Loan, Personal Loan,...                    5   \n",
       "4  Auto Loan, Credit-Builder Loan, Personal Loan,...                    6   \n",
       "\n",
       "  Num_of_Delayed_Payment Changed_Credit_Limit  Num_Credit_Inquiries  \\\n",
       "0                      7                11.27                   4.0   \n",
       "1                    NaN                11.27                   4.0   \n",
       "2                      7                    _                   4.0   \n",
       "3                      4                 6.27                   4.0   \n",
       "4                    NaN                11.27                   4.0   \n",
       "\n",
       "  Credit_Mix Outstanding_Debt  Credit_Utilization_Ratio  \\\n",
       "0          _           809.98                 26.822620   \n",
       "1       Good           809.98                 31.944960   \n",
       "2       Good           809.98                 28.609352   \n",
       "3       Good           809.98                 31.377862   \n",
       "4       Good           809.98                 24.797347   \n",
       "\n",
       "      Credit_History_Age Payment_of_Min_Amount  Total_EMI_per_month  \\\n",
       "0  22 Years and 1 Months                    No            49.574949   \n",
       "1                    NaN                    No            49.574949   \n",
       "2  22 Years and 3 Months                    No            49.574949   \n",
       "3  22 Years and 4 Months                    No            49.574949   \n",
       "4  22 Years and 5 Months                    No            49.574949   \n",
       "\n",
       "  Amount_invested_monthly                 Payment_Behaviour  \\\n",
       "0       80.41529543900253   High_spent_Small_value_payments   \n",
       "1      118.28022162236736    Low_spent_Large_value_payments   \n",
       "2         81.699521264648   Low_spent_Medium_value_payments   \n",
       "3       199.4580743910713    Low_spent_Small_value_payments   \n",
       "4      41.420153086217326  High_spent_Medium_value_payments   \n",
       "\n",
       "      Monthly_Balance Credit_Score  \n",
       "0  312.49408867943663         Good  \n",
       "1  284.62916249607184         Good  \n",
       "2   331.2098628537912         Good  \n",
       "3  223.45130972736786         Good  \n",
       "4  341.48923103222177         Good  "
      ]
     },
     "execution_count": 13,
     "metadata": {},
     "output_type": "execute_result"
    }
   ],
   "source": [
    "traindata.head()"
   ]
  },
  {
   "cell_type": "code",
   "execution_count": 14,
   "id": "a1c36219",
   "metadata": {},
   "outputs": [
    {
     "name": "stdout",
     "output_type": "stream",
     "text": [
      "<class 'pandas.core.frame.DataFrame'>\n",
      "RangeIndex: 100000 entries, 0 to 99999\n",
      "Data columns (total 28 columns):\n",
      " #   Column                    Non-Null Count   Dtype  \n",
      "---  ------                    --------------   -----  \n",
      " 0   ID                        100000 non-null  object \n",
      " 1   Customer_ID               100000 non-null  object \n",
      " 2   Month                     100000 non-null  object \n",
      " 3   Name                      90015 non-null   object \n",
      " 4   Age                       100000 non-null  object \n",
      " 5   SSN                       100000 non-null  object \n",
      " 6   Occupation                100000 non-null  object \n",
      " 7   Annual_Income             100000 non-null  object \n",
      " 8   Monthly_Inhand_Salary     84998 non-null   float64\n",
      " 9   Num_Bank_Accounts         100000 non-null  int64  \n",
      " 10  Num_Credit_Card           100000 non-null  int64  \n",
      " 11  Interest_Rate             100000 non-null  int64  \n",
      " 12  Num_of_Loan               100000 non-null  object \n",
      " 13  Type_of_Loan              88592 non-null   object \n",
      " 14  Delay_from_due_date       100000 non-null  int64  \n",
      " 15  Num_of_Delayed_Payment    92998 non-null   object \n",
      " 16  Changed_Credit_Limit      100000 non-null  object \n",
      " 17  Num_Credit_Inquiries      98035 non-null   float64\n",
      " 18  Credit_Mix                100000 non-null  object \n",
      " 19  Outstanding_Debt          100000 non-null  object \n",
      " 20  Credit_Utilization_Ratio  100000 non-null  float64\n",
      " 21  Credit_History_Age        90970 non-null   object \n",
      " 22  Payment_of_Min_Amount     100000 non-null  object \n",
      " 23  Total_EMI_per_month       100000 non-null  float64\n",
      " 24  Amount_invested_monthly   95521 non-null   object \n",
      " 25  Payment_Behaviour         100000 non-null  object \n",
      " 26  Monthly_Balance           98800 non-null   object \n",
      " 27  Credit_Score              100000 non-null  object \n",
      "dtypes: float64(4), int64(4), object(20)\n",
      "memory usage: 21.4+ MB\n"
     ]
    }
   ],
   "source": [
    "traindata.info()"
   ]
  },
  {
   "cell_type": "markdown",
   "id": "7ae200e3",
   "metadata": {},
   "source": [
    "##### Change type to category"
   ]
  },
  {
   "cell_type": "code",
   "execution_count": 15,
   "id": "2bbefd48",
   "metadata": {},
   "outputs": [],
   "source": [
    "catcols=['Month', 'Occupation', 'Type_of_Loan', 'Credit_Mix', 'Credit_Score', 'Payment_Behaviour', 'Payment_of_Min_Amount']\n",
    "traindata[catcols]=traindata[catcols].astype('category')"
   ]
  },
  {
   "cell_type": "markdown",
   "id": "adb41f81",
   "metadata": {},
   "source": [
    "# Data Cleaning"
   ]
  },
  {
   "cell_type": "code",
   "execution_count": 16,
   "id": "e69b60d5",
   "metadata": {},
   "outputs": [
    {
     "data": {
      "text/plain": [
       "ID                              0\n",
       "Customer_ID                     0\n",
       "Month                           0\n",
       "Name                         9985\n",
       "Age                             0\n",
       "SSN                             0\n",
       "Occupation                      0\n",
       "Annual_Income                   0\n",
       "Monthly_Inhand_Salary       15002\n",
       "Num_Bank_Accounts               0\n",
       "Num_Credit_Card                 0\n",
       "Interest_Rate                   0\n",
       "Num_of_Loan                     0\n",
       "Type_of_Loan                11408\n",
       "Delay_from_due_date             0\n",
       "Num_of_Delayed_Payment       7002\n",
       "Changed_Credit_Limit            0\n",
       "Num_Credit_Inquiries         1965\n",
       "Credit_Mix                      0\n",
       "Outstanding_Debt                0\n",
       "Credit_Utilization_Ratio        0\n",
       "Credit_History_Age           9030\n",
       "Payment_of_Min_Amount           0\n",
       "Total_EMI_per_month             0\n",
       "Amount_invested_monthly      4479\n",
       "Payment_Behaviour               0\n",
       "Monthly_Balance              1200\n",
       "Credit_Score                    0\n",
       "dtype: int64"
      ]
     },
     "execution_count": 16,
     "metadata": {},
     "output_type": "execute_result"
    }
   ],
   "source": [
    "traindata.isna().sum()"
   ]
  },
  {
   "cell_type": "code",
   "execution_count": 17,
   "id": "cb91f3c2",
   "metadata": {},
   "outputs": [
    {
     "data": {
      "text/plain": [
       "0"
      ]
     },
     "execution_count": 17,
     "metadata": {},
     "output_type": "execute_result"
    }
   ],
   "source": [
    "traindata.duplicated().sum()"
   ]
  },
  {
   "cell_type": "code",
   "execution_count": 18,
   "id": "dc58a47a",
   "metadata": {},
   "outputs": [
    {
     "data": {
      "text/plain": [
       "ID                          100000\n",
       "Customer_ID                  12500\n",
       "Month                            8\n",
       "Name                         10139\n",
       "Age                           1788\n",
       "SSN                          12501\n",
       "Occupation                      16\n",
       "Annual_Income                18940\n",
       "Monthly_Inhand_Salary        13235\n",
       "Num_Bank_Accounts              943\n",
       "Num_Credit_Card               1179\n",
       "Interest_Rate                 1750\n",
       "Num_of_Loan                    434\n",
       "Type_of_Loan                  6260\n",
       "Delay_from_due_date             73\n",
       "Num_of_Delayed_Payment         749\n",
       "Changed_Credit_Limit          4384\n",
       "Num_Credit_Inquiries          1223\n",
       "Credit_Mix                       4\n",
       "Outstanding_Debt             13178\n",
       "Credit_Utilization_Ratio    100000\n",
       "Credit_History_Age             404\n",
       "Payment_of_Min_Amount            3\n",
       "Total_EMI_per_month          14950\n",
       "Amount_invested_monthly      91049\n",
       "Payment_Behaviour                7\n",
       "Monthly_Balance              98792\n",
       "Credit_Score                     3\n",
       "dtype: int64"
      ]
     },
     "execution_count": 18,
     "metadata": {},
     "output_type": "execute_result"
    }
   ],
   "source": [
    "traindata.nunique()"
   ]
  },
  {
   "cell_type": "markdown",
   "id": "823f8722",
   "metadata": {},
   "source": [
    "#### Drop redundant columns\n"
   ]
  },
  {
   "cell_type": "code",
   "execution_count": 19,
   "id": "7965a5e3",
   "metadata": {},
   "outputs": [],
   "source": [
    "traindata=traindata.drop(['ID', 'Name', 'SSN', 'Type_of_Loan'], axis=1)\n"
   ]
  },
  {
   "cell_type": "markdown",
   "id": "61b9c117",
   "metadata": {},
   "source": [
    "##### Handle categorical columns"
   ]
  },
  {
   "cell_type": "code",
   "execution_count": 20,
   "id": "6895ad2d",
   "metadata": {},
   "outputs": [],
   "source": [
    "cl=list(traindata.select_dtypes('category').columns)"
   ]
  },
  {
   "cell_type": "code",
   "execution_count": 21,
   "id": "215b989a",
   "metadata": {},
   "outputs": [
    {
     "name": "stdout",
     "output_type": "stream",
     "text": [
      "Month\n",
      "April       12500\n",
      "August      12500\n",
      "February    12500\n",
      "January     12500\n",
      "July        12500\n",
      "June        12500\n",
      "March       12500\n",
      "May         12500\n",
      "Name: Month, dtype: int64\n",
      "\n",
      "Occupation\n",
      "_______          7062\n",
      "Lawyer           6575\n",
      "Architect        6355\n",
      "Engineer         6350\n",
      "Scientist        6299\n",
      "Mechanic         6291\n",
      "Accountant       6271\n",
      "Developer        6235\n",
      "Media_Manager    6232\n",
      "Teacher          6215\n",
      "Entrepreneur     6174\n",
      "Doctor           6087\n",
      "Journalist       6085\n",
      "Manager          5973\n",
      "Musician         5911\n",
      "Writer           5885\n",
      "Name: Occupation, dtype: int64\n",
      "\n",
      "Credit_Mix\n",
      "Standard    36479\n",
      "Good        24337\n",
      "_           20195\n",
      "Bad         18989\n",
      "Name: Credit_Mix, dtype: int64\n",
      "\n",
      "Payment_of_Min_Amount\n",
      "Yes    52326\n",
      "No     35667\n",
      "NM     12007\n",
      "Name: Payment_of_Min_Amount, dtype: int64\n",
      "\n",
      "Payment_Behaviour\n",
      "Low_spent_Small_value_payments      25513\n",
      "High_spent_Medium_value_payments    17540\n",
      "Low_spent_Medium_value_payments     13861\n",
      "High_spent_Large_value_payments     13721\n",
      "High_spent_Small_value_payments     11340\n",
      "Low_spent_Large_value_payments      10425\n",
      "!@9#%8                               7600\n",
      "Name: Payment_Behaviour, dtype: int64\n",
      "\n",
      "Credit_Score\n",
      "Standard    53174\n",
      "Poor        28998\n",
      "Good        17828\n",
      "Name: Credit_Score, dtype: int64\n",
      "\n"
     ]
    }
   ],
   "source": [
    "for col in cl:\n",
    "    print(col)\n",
    "    print ((traindata[col].value_counts()))\n",
    "    print()"
   ]
  },
  {
   "cell_type": "markdown",
   "id": "130ba9d2",
   "metadata": {},
   "source": [
    "For credit mix replace _ with NaN \n",
    "\n",
    "For payment_behavior replace !@9#%8 with NaN"
   ]
  },
  {
   "cell_type": "code",
   "execution_count": 22,
   "id": "c1c53508",
   "metadata": {},
   "outputs": [],
   "source": [
    "traindata['Payment_Behaviour']=traindata['Payment_Behaviour'].apply(lambda x: np.NaN if x=='!@9#%8' else x )\n",
    "traindata['Credit_Mix']=traindata['Credit_Mix'].apply(lambda x: np.NaN if x=='_' else x )"
   ]
  },
  {
   "cell_type": "code",
   "execution_count": 23,
   "id": "cb9bfc35",
   "metadata": {},
   "outputs": [],
   "source": [
    "traindata['Occupation']=traindata.groupby('Customer_ID')['Occupation'].transform(lambda x: x.mode()[0])"
   ]
  },
  {
   "cell_type": "code",
   "execution_count": 24,
   "id": "31bf9dc7",
   "metadata": {},
   "outputs": [],
   "source": [
    "traindata=traindata[~(traindata['Occupation']=='_______')]"
   ]
  },
  {
   "cell_type": "markdown",
   "id": "1b5261b0",
   "metadata": {},
   "source": [
    "##### Handle Numeric Variables"
   ]
  },
  {
   "cell_type": "code",
   "execution_count": 25,
   "id": "c1c71f40",
   "metadata": {},
   "outputs": [],
   "source": [
    "cols=['Age','Annual_Income','Num_of_Loan','Num_of_Delayed_Payment','Changed_Credit_Limit', 'Outstanding_Debt']"
   ]
  },
  {
   "cell_type": "code",
   "execution_count": 26,
   "id": "2c91555d",
   "metadata": {},
   "outputs": [],
   "source": [
    "for col in cols:\n",
    "    traindata[col]=traindata[col].apply(lambda x:x if x is np.NaN or not isinstance(x,str) else x.replace('_','')).replace('',np.NaN)\n",
    "    traindata[col]=traindata[col].astype('float')"
   ]
  },
  {
   "cell_type": "markdown",
   "id": "e5c5c57c",
   "metadata": {},
   "source": [
    "##### Impute and Clean"
   ]
  },
  {
   "cell_type": "code",
   "execution_count": 27,
   "id": "89d0643b",
   "metadata": {},
   "outputs": [],
   "source": [
    "traindata['Monthly_Inhand_Salary']=traindata.groupby('Customer_ID')['Monthly_Inhand_Salary'].transform(lambda v: v.mean())\n"
   ]
  },
  {
   "cell_type": "code",
   "execution_count": 28,
   "id": "221fc7c0",
   "metadata": {},
   "outputs": [],
   "source": [
    "traindata['Num_of_Delayed_Payment'] = traindata.groupby('Customer_ID')['Num_of_Delayed_Payment'].transform(lambda v: v.mode()[0])\n"
   ]
  },
  {
   "cell_type": "code",
   "execution_count": 29,
   "id": "e37a81db",
   "metadata": {},
   "outputs": [],
   "source": [
    "def return_null(val):\n",
    "  if isinstance(val, str) and \"__\" in val:\n",
    "    return np.NaN\n",
    "  else:\n",
    "    return val\n",
    "traindata['Amount_invested_monthly'] = traindata['Amount_invested_monthly'].apply(return_null)\n",
    "traindata['Amount_invested_monthly'] = traindata['Amount_invested_monthly'].astype('float')\n",
    "traindata['Amount_invested_monthly'] = traindata.groupby('Customer_ID')['Amount_invested_monthly'].transform(lambda v: v.mean())"
   ]
  },
  {
   "cell_type": "code",
   "execution_count": 30,
   "id": "b5bce6c2",
   "metadata": {},
   "outputs": [],
   "source": [
    "traindata['Num_Credit_Inquiries']=traindata.groupby('Customer_ID')['Num_Credit_Inquiries'].transform(lambda x: x.mean())"
   ]
  },
  {
   "cell_type": "code",
   "execution_count": 31,
   "id": "362ca544",
   "metadata": {},
   "outputs": [],
   "source": [
    "traindata['Monthly_Balance'] = traindata['Monthly_Balance'].apply(return_null)\n",
    "traindata['Monthly_Balance'] = traindata['Monthly_Balance'].astype('float')\n",
    "traindata['Monthly_Balance'] =traindata.groupby('Customer_ID')['Monthly_Balance'].transform(lambda v: v.mean())"
   ]
  },
  {
   "cell_type": "code",
   "execution_count": 32,
   "id": "49c529e4",
   "metadata": {},
   "outputs": [
    {
     "name": "stderr",
     "output_type": "stream",
     "text": [
      "C:\\Users\\user\\AppData\\Local\\Temp\\ipykernel_20776\\340677367.py:1: FutureWarning: Not prepending group keys to the result index of transform-like apply. In the future, the group keys will be included in the index, regardless of whether the applied function returns a like-indexed object.\n",
      "To preserve the previous behavior, use\n",
      "\n",
      "\t>>> .groupby(..., group_keys=False)\n",
      "\n",
      "To adopt the future behavior and silence this warning, use \n",
      "\n",
      "\t>>> .groupby(..., group_keys=True)\n",
      "  traindata['Payment_Behaviour'] = traindata.groupby('Customer_ID')['Payment_Behaviour'].apply(lambda x: x.fillna(x.mode()[0]))\n",
      "C:\\Users\\user\\AppData\\Local\\Temp\\ipykernel_20776\\340677367.py:2: FutureWarning: Not prepending group keys to the result index of transform-like apply. In the future, the group keys will be included in the index, regardless of whether the applied function returns a like-indexed object.\n",
      "To preserve the previous behavior, use\n",
      "\n",
      "\t>>> .groupby(..., group_keys=False)\n",
      "\n",
      "To adopt the future behavior and silence this warning, use \n",
      "\n",
      "\t>>> .groupby(..., group_keys=True)\n",
      "  traindata['Credit_Mix'] = traindata.groupby('Customer_ID')['Credit_Mix'].apply(lambda x: x.fillna(x.mode()[0]))\n"
     ]
    }
   ],
   "source": [
    "traindata['Payment_Behaviour'] = traindata.groupby('Customer_ID')['Payment_Behaviour'].apply(lambda x: x.fillna(x.mode()[0]))\n",
    "traindata['Credit_Mix'] = traindata.groupby('Customer_ID')['Credit_Mix'].apply(lambda x: x.fillna(x.mode()[0]))\n",
    "traindata['Changed_Credit_Limit'] = traindata.groupby('Customer_ID')['Changed_Credit_Limit'].transform(lambda v: v.mode()[0])"
   ]
  },
  {
   "cell_type": "code",
   "execution_count": 33,
   "id": "20c78b25",
   "metadata": {},
   "outputs": [
    {
     "data": {
      "text/plain": [
       "0"
      ]
     },
     "execution_count": 33,
     "metadata": {},
     "output_type": "execute_result"
    }
   ],
   "source": [
    "traindata['Payment_Behaviour'].isna().sum()"
   ]
  },
  {
   "cell_type": "code",
   "execution_count": 34,
   "id": "abcf4246",
   "metadata": {},
   "outputs": [],
   "source": [
    "import re\n",
    "def cal_history_age(val):\n",
    "  try:\n",
    "    year, month = 0, 0\n",
    "    if re.search('year', val, re.IGNORECASE):\n",
    "      year = int(re.findall('\\d+', val)[0])\n",
    "    if re.search('month', val, re.IGNORECASE):\n",
    "      month = int(re.findall('\\d+', val)[1])\n",
    "    return year*12+month\n",
    "  except:\n",
    "    return np.NaN"
   ]
  },
  {
   "cell_type": "code",
   "execution_count": 35,
   "id": "5f1aa986",
   "metadata": {},
   "outputs": [],
   "source": [
    "traindata['Credit_History_Age']=traindata['Credit_History_Age'].apply(cal_history_age)"
   ]
  },
  {
   "cell_type": "code",
   "execution_count": 36,
   "id": "ca2bdd3d",
   "metadata": {},
   "outputs": [],
   "source": [
    "traindata['Credit_History_Age']=traindata.groupby('Customer_ID')['Credit_History_Age'].transform(lambda v: v.ffill())\n",
    "traindata['Credit_History_Age']=traindata.groupby('Customer_ID')['Credit_History_Age'].transform(lambda v: v.bfill())\n",
    "traindata['Credit_History_Age']=traindata['Credit_History_Age'].astype('float')"
   ]
  },
  {
   "cell_type": "code",
   "execution_count": 37,
   "id": "cc2e5e63",
   "metadata": {},
   "outputs": [
    {
     "data": {
      "text/plain": [
       "Index(['Month', 'Payment_of_Min_Amount', 'Credit_Score'], dtype='object')"
      ]
     },
     "execution_count": 37,
     "metadata": {},
     "output_type": "execute_result"
    }
   ],
   "source": [
    "traindata.select_dtypes('category').columns"
   ]
  },
  {
   "cell_type": "code",
   "execution_count": 38,
   "id": "f1cc48c9",
   "metadata": {},
   "outputs": [
    {
     "data": {
      "text/html": [
       "<div>\n",
       "<style scoped>\n",
       "    .dataframe tbody tr th:only-of-type {\n",
       "        vertical-align: middle;\n",
       "    }\n",
       "\n",
       "    .dataframe tbody tr th {\n",
       "        vertical-align: top;\n",
       "    }\n",
       "\n",
       "    .dataframe thead th {\n",
       "        text-align: right;\n",
       "    }\n",
       "</style>\n",
       "<table border=\"1\" class=\"dataframe\">\n",
       "  <thead>\n",
       "    <tr style=\"text-align: right;\">\n",
       "      <th></th>\n",
       "      <th>Customer_ID</th>\n",
       "      <th>Occupation</th>\n",
       "      <th>Credit_Mix</th>\n",
       "      <th>Payment_Behaviour</th>\n",
       "    </tr>\n",
       "  </thead>\n",
       "  <tbody>\n",
       "    <tr>\n",
       "      <th>0</th>\n",
       "      <td>CUS_0xd40</td>\n",
       "      <td>Scientist</td>\n",
       "      <td>Good</td>\n",
       "      <td>High_spent_Small_value_payments</td>\n",
       "    </tr>\n",
       "    <tr>\n",
       "      <th>1</th>\n",
       "      <td>CUS_0xd40</td>\n",
       "      <td>Scientist</td>\n",
       "      <td>Good</td>\n",
       "      <td>Low_spent_Large_value_payments</td>\n",
       "    </tr>\n",
       "    <tr>\n",
       "      <th>2</th>\n",
       "      <td>CUS_0xd40</td>\n",
       "      <td>Scientist</td>\n",
       "      <td>Good</td>\n",
       "      <td>Low_spent_Medium_value_payments</td>\n",
       "    </tr>\n",
       "    <tr>\n",
       "      <th>3</th>\n",
       "      <td>CUS_0xd40</td>\n",
       "      <td>Scientist</td>\n",
       "      <td>Good</td>\n",
       "      <td>Low_spent_Small_value_payments</td>\n",
       "    </tr>\n",
       "    <tr>\n",
       "      <th>4</th>\n",
       "      <td>CUS_0xd40</td>\n",
       "      <td>Scientist</td>\n",
       "      <td>Good</td>\n",
       "      <td>High_spent_Medium_value_payments</td>\n",
       "    </tr>\n",
       "    <tr>\n",
       "      <th>...</th>\n",
       "      <td>...</td>\n",
       "      <td>...</td>\n",
       "      <td>...</td>\n",
       "      <td>...</td>\n",
       "    </tr>\n",
       "    <tr>\n",
       "      <th>99995</th>\n",
       "      <td>CUS_0x942c</td>\n",
       "      <td>Mechanic</td>\n",
       "      <td>Good</td>\n",
       "      <td>High_spent_Large_value_payments</td>\n",
       "    </tr>\n",
       "    <tr>\n",
       "      <th>99996</th>\n",
       "      <td>CUS_0x942c</td>\n",
       "      <td>Mechanic</td>\n",
       "      <td>Good</td>\n",
       "      <td>High_spent_Medium_value_payments</td>\n",
       "    </tr>\n",
       "    <tr>\n",
       "      <th>99997</th>\n",
       "      <td>CUS_0x942c</td>\n",
       "      <td>Mechanic</td>\n",
       "      <td>Good</td>\n",
       "      <td>High_spent_Large_value_payments</td>\n",
       "    </tr>\n",
       "    <tr>\n",
       "      <th>99998</th>\n",
       "      <td>CUS_0x942c</td>\n",
       "      <td>Mechanic</td>\n",
       "      <td>Good</td>\n",
       "      <td>Low_spent_Large_value_payments</td>\n",
       "    </tr>\n",
       "    <tr>\n",
       "      <th>99999</th>\n",
       "      <td>CUS_0x942c</td>\n",
       "      <td>Mechanic</td>\n",
       "      <td>Good</td>\n",
       "      <td>High_spent_Large_value_payments</td>\n",
       "    </tr>\n",
       "  </tbody>\n",
       "</table>\n",
       "<p>99992 rows × 4 columns</p>\n",
       "</div>"
      ],
      "text/plain": [
       "      Customer_ID Occupation Credit_Mix                 Payment_Behaviour\n",
       "0       CUS_0xd40  Scientist       Good   High_spent_Small_value_payments\n",
       "1       CUS_0xd40  Scientist       Good    Low_spent_Large_value_payments\n",
       "2       CUS_0xd40  Scientist       Good   Low_spent_Medium_value_payments\n",
       "3       CUS_0xd40  Scientist       Good    Low_spent_Small_value_payments\n",
       "4       CUS_0xd40  Scientist       Good  High_spent_Medium_value_payments\n",
       "...           ...        ...        ...                               ...\n",
       "99995  CUS_0x942c   Mechanic       Good   High_spent_Large_value_payments\n",
       "99996  CUS_0x942c   Mechanic       Good  High_spent_Medium_value_payments\n",
       "99997  CUS_0x942c   Mechanic       Good   High_spent_Large_value_payments\n",
       "99998  CUS_0x942c   Mechanic       Good    Low_spent_Large_value_payments\n",
       "99999  CUS_0x942c   Mechanic       Good   High_spent_Large_value_payments\n",
       "\n",
       "[99992 rows x 4 columns]"
      ]
     },
     "execution_count": 38,
     "metadata": {},
     "output_type": "execute_result"
    }
   ],
   "source": [
    "traindata.select_dtypes('object')"
   ]
  },
  {
   "cell_type": "code",
   "execution_count": 39,
   "id": "e0861e20",
   "metadata": {},
   "outputs": [],
   "source": [
    "cat_cols = ['Credit_Mix', 'Payment_Behaviour', 'Occupation']\n",
    "traindata[cat_cols] = traindata[cat_cols].astype('category')\n"
   ]
  },
  {
   "cell_type": "code",
   "execution_count": 40,
   "id": "5f0d422e",
   "metadata": {},
   "outputs": [],
   "source": [
    "def clean_age(x):\n",
    "  if x > 100 or x <=0:\n",
    "    return np.NaN\n",
    "  return x"
   ]
  },
  {
   "cell_type": "code",
   "execution_count": 41,
   "id": "4e5cb1ca",
   "metadata": {},
   "outputs": [],
   "source": [
    "traindata['Age'] = traindata['Age'].apply(lambda x: x if x is np.nan or not isinstance(x, str)\n",
    "                    else x.replace(\"_\",\"\")).replace(\"\",np.nan)\n",
    "traindata['Age'] = traindata['Age'].astype('float')\n",
    "traindata['Age'] = traindata['Age'].apply(clean_age)\n",
    "traindata['Age'] = traindata.groupby('Customer_ID')['Age'].transform(lambda v: v.mode()[0])"
   ]
  },
  {
   "cell_type": "code",
   "execution_count": null,
   "id": "87108ed4",
   "metadata": {},
   "outputs": [],
   "source": []
  },
  {
   "cell_type": "code",
   "execution_count": null,
   "id": "6b01e4ce",
   "metadata": {},
   "outputs": [],
   "source": []
  },
  {
   "cell_type": "markdown",
   "id": "0bf834d3",
   "metadata": {},
   "source": [
    "##### Sanity Checks"
   ]
  },
  {
   "cell_type": "code",
   "execution_count": 42,
   "id": "3a782221",
   "metadata": {},
   "outputs": [
    {
     "name": "stdout",
     "output_type": "stream",
     "text": [
      "<class 'pandas.core.frame.DataFrame'>\n",
      "Int64Index: 99992 entries, 0 to 99999\n",
      "Data columns (total 24 columns):\n",
      " #   Column                    Non-Null Count  Dtype   \n",
      "---  ------                    --------------  -----   \n",
      " 0   Customer_ID               99992 non-null  object  \n",
      " 1   Month                     99992 non-null  category\n",
      " 2   Age                       99992 non-null  float64 \n",
      " 3   Occupation                99992 non-null  category\n",
      " 4   Annual_Income             99992 non-null  float64 \n",
      " 5   Monthly_Inhand_Salary     99992 non-null  float64 \n",
      " 6   Num_Bank_Accounts         99992 non-null  int64   \n",
      " 7   Num_Credit_Card           99992 non-null  int64   \n",
      " 8   Interest_Rate             99992 non-null  int64   \n",
      " 9   Num_of_Loan               99992 non-null  float64 \n",
      " 10  Delay_from_due_date       99992 non-null  int64   \n",
      " 11  Num_of_Delayed_Payment    99992 non-null  float64 \n",
      " 12  Changed_Credit_Limit      99992 non-null  float64 \n",
      " 13  Num_Credit_Inquiries      99992 non-null  float64 \n",
      " 14  Credit_Mix                99992 non-null  category\n",
      " 15  Outstanding_Debt          99992 non-null  float64 \n",
      " 16  Credit_Utilization_Ratio  99992 non-null  float64 \n",
      " 17  Credit_History_Age        99992 non-null  float64 \n",
      " 18  Payment_of_Min_Amount     99992 non-null  category\n",
      " 19  Total_EMI_per_month       99992 non-null  float64 \n",
      " 20  Amount_invested_monthly   99992 non-null  float64 \n",
      " 21  Payment_Behaviour         99992 non-null  category\n",
      " 22  Monthly_Balance           99992 non-null  float64 \n",
      " 23  Credit_Score              99992 non-null  category\n",
      "dtypes: category(6), float64(13), int64(4), object(1)\n",
      "memory usage: 15.1+ MB\n"
     ]
    }
   ],
   "source": [
    "traindata.info()"
   ]
  },
  {
   "cell_type": "code",
   "execution_count": 43,
   "id": "0ec958d2",
   "metadata": {},
   "outputs": [
    {
     "data": {
      "text/html": [
       "<div>\n",
       "<style scoped>\n",
       "    .dataframe tbody tr th:only-of-type {\n",
       "        vertical-align: middle;\n",
       "    }\n",
       "\n",
       "    .dataframe tbody tr th {\n",
       "        vertical-align: top;\n",
       "    }\n",
       "\n",
       "    .dataframe thead th {\n",
       "        text-align: right;\n",
       "    }\n",
       "</style>\n",
       "<table border=\"1\" class=\"dataframe\">\n",
       "  <thead>\n",
       "    <tr style=\"text-align: right;\">\n",
       "      <th></th>\n",
       "      <th>Age</th>\n",
       "      <th>Annual_Income</th>\n",
       "      <th>Monthly_Inhand_Salary</th>\n",
       "      <th>Num_Bank_Accounts</th>\n",
       "      <th>Num_Credit_Card</th>\n",
       "      <th>Interest_Rate</th>\n",
       "      <th>Num_of_Loan</th>\n",
       "      <th>Delay_from_due_date</th>\n",
       "      <th>Num_of_Delayed_Payment</th>\n",
       "      <th>Changed_Credit_Limit</th>\n",
       "      <th>Num_Credit_Inquiries</th>\n",
       "      <th>Outstanding_Debt</th>\n",
       "      <th>Credit_Utilization_Ratio</th>\n",
       "      <th>Credit_History_Age</th>\n",
       "      <th>Total_EMI_per_month</th>\n",
       "      <th>Amount_invested_monthly</th>\n",
       "      <th>Monthly_Balance</th>\n",
       "    </tr>\n",
       "  </thead>\n",
       "  <tbody>\n",
       "    <tr>\n",
       "      <th>count</th>\n",
       "      <td>99992.000000</td>\n",
       "      <td>9.999200e+04</td>\n",
       "      <td>99992.000000</td>\n",
       "      <td>99992.000000</td>\n",
       "      <td>99992.000000</td>\n",
       "      <td>99992.000000</td>\n",
       "      <td>99992.000000</td>\n",
       "      <td>99992.000000</td>\n",
       "      <td>99992.000000</td>\n",
       "      <td>99992.000000</td>\n",
       "      <td>99992.000000</td>\n",
       "      <td>99992.000000</td>\n",
       "      <td>99992.000000</td>\n",
       "      <td>99992.000000</td>\n",
       "      <td>99992.000000</td>\n",
       "      <td>99992.000000</td>\n",
       "      <td>99992.000000</td>\n",
       "    </tr>\n",
       "    <tr>\n",
       "      <th>mean</th>\n",
       "      <td>33.275302</td>\n",
       "      <td>1.764263e+05</td>\n",
       "      <td>4198.524091</td>\n",
       "      <td>17.092167</td>\n",
       "      <td>22.475988</td>\n",
       "      <td>72.470878</td>\n",
       "      <td>3.010041</td>\n",
       "      <td>21.069226</td>\n",
       "      <td>13.263781</td>\n",
       "      <td>10.393515</td>\n",
       "      <td>27.672354</td>\n",
       "      <td>1426.232797</td>\n",
       "      <td>32.285141</td>\n",
       "      <td>221.134191</td>\n",
       "      <td>1403.225371</td>\n",
       "      <td>195.755021</td>\n",
       "      <td>403.121113</td>\n",
       "    </tr>\n",
       "    <tr>\n",
       "      <th>std</th>\n",
       "      <td>10.764549</td>\n",
       "      <td>1.429675e+06</td>\n",
       "      <td>3187.152870</td>\n",
       "      <td>117.409489</td>\n",
       "      <td>129.062455</td>\n",
       "      <td>466.440966</td>\n",
       "      <td>62.650385</td>\n",
       "      <td>14.860600</td>\n",
       "      <td>6.202003</td>\n",
       "      <td>6.512789</td>\n",
       "      <td>68.785564</td>\n",
       "      <td>1155.174399</td>\n",
       "      <td>5.116877</td>\n",
       "      <td>99.684181</td>\n",
       "      <td>8306.364896</td>\n",
       "      <td>136.847341</td>\n",
       "      <td>175.477742</td>\n",
       "    </tr>\n",
       "    <tr>\n",
       "      <th>min</th>\n",
       "      <td>14.000000</td>\n",
       "      <td>7.005930e+03</td>\n",
       "      <td>303.645417</td>\n",
       "      <td>-1.000000</td>\n",
       "      <td>0.000000</td>\n",
       "      <td>1.000000</td>\n",
       "      <td>-100.000000</td>\n",
       "      <td>-5.000000</td>\n",
       "      <td>-2.000000</td>\n",
       "      <td>-5.010000</td>\n",
       "      <td>0.000000</td>\n",
       "      <td>0.230000</td>\n",
       "      <td>20.000000</td>\n",
       "      <td>1.000000</td>\n",
       "      <td>0.000000</td>\n",
       "      <td>14.528879</td>\n",
       "      <td>92.841401</td>\n",
       "    </tr>\n",
       "    <tr>\n",
       "      <th>25%</th>\n",
       "      <td>24.000000</td>\n",
       "      <td>1.945549e+04</td>\n",
       "      <td>1625.597917</td>\n",
       "      <td>3.000000</td>\n",
       "      <td>4.000000</td>\n",
       "      <td>8.000000</td>\n",
       "      <td>1.000000</td>\n",
       "      <td>10.000000</td>\n",
       "      <td>9.000000</td>\n",
       "      <td>5.500000</td>\n",
       "      <td>3.000000</td>\n",
       "      <td>566.050000</td>\n",
       "      <td>28.052567</td>\n",
       "      <td>144.000000</td>\n",
       "      <td>30.306660</td>\n",
       "      <td>97.630668</td>\n",
       "      <td>284.538757</td>\n",
       "    </tr>\n",
       "    <tr>\n",
       "      <th>50%</th>\n",
       "      <td>33.000000</td>\n",
       "      <td>3.757861e+04</td>\n",
       "      <td>3097.008333</td>\n",
       "      <td>6.000000</td>\n",
       "      <td>5.000000</td>\n",
       "      <td>13.000000</td>\n",
       "      <td>3.000000</td>\n",
       "      <td>18.000000</td>\n",
       "      <td>14.000000</td>\n",
       "      <td>9.340000</td>\n",
       "      <td>6.000000</td>\n",
       "      <td>1166.080000</td>\n",
       "      <td>32.305784</td>\n",
       "      <td>219.000000</td>\n",
       "      <td>69.266164</td>\n",
       "      <td>152.064614</td>\n",
       "      <td>338.449369</td>\n",
       "    </tr>\n",
       "    <tr>\n",
       "      <th>75%</th>\n",
       "      <td>42.000000</td>\n",
       "      <td>7.279092e+04</td>\n",
       "      <td>5961.745000</td>\n",
       "      <td>7.000000</td>\n",
       "      <td>7.000000</td>\n",
       "      <td>20.000000</td>\n",
       "      <td>5.000000</td>\n",
       "      <td>28.000000</td>\n",
       "      <td>18.000000</td>\n",
       "      <td>14.680000</td>\n",
       "      <td>10.250000</td>\n",
       "      <td>1946.810000</td>\n",
       "      <td>36.496462</td>\n",
       "      <td>302.000000</td>\n",
       "      <td>161.224249</td>\n",
       "      <td>257.568430</td>\n",
       "      <td>465.449084</td>\n",
       "    </tr>\n",
       "    <tr>\n",
       "      <th>max</th>\n",
       "      <td>56.000000</td>\n",
       "      <td>2.419806e+07</td>\n",
       "      <td>15204.633333</td>\n",
       "      <td>1798.000000</td>\n",
       "      <td>1499.000000</td>\n",
       "      <td>5797.000000</td>\n",
       "      <td>1496.000000</td>\n",
       "      <td>67.000000</td>\n",
       "      <td>28.000000</td>\n",
       "      <td>29.980000</td>\n",
       "      <td>602.250000</td>\n",
       "      <td>4998.070000</td>\n",
       "      <td>50.000000</td>\n",
       "      <td>404.000000</td>\n",
       "      <td>82331.000000</td>\n",
       "      <td>1005.847285</td>\n",
       "      <td>1349.264887</td>\n",
       "    </tr>\n",
       "  </tbody>\n",
       "</table>\n",
       "</div>"
      ],
      "text/plain": [
       "                Age  Annual_Income  Monthly_Inhand_Salary  Num_Bank_Accounts  \\\n",
       "count  99992.000000   9.999200e+04           99992.000000       99992.000000   \n",
       "mean      33.275302   1.764263e+05            4198.524091          17.092167   \n",
       "std       10.764549   1.429675e+06            3187.152870         117.409489   \n",
       "min       14.000000   7.005930e+03             303.645417          -1.000000   \n",
       "25%       24.000000   1.945549e+04            1625.597917           3.000000   \n",
       "50%       33.000000   3.757861e+04            3097.008333           6.000000   \n",
       "75%       42.000000   7.279092e+04            5961.745000           7.000000   \n",
       "max       56.000000   2.419806e+07           15204.633333        1798.000000   \n",
       "\n",
       "       Num_Credit_Card  Interest_Rate   Num_of_Loan  Delay_from_due_date  \\\n",
       "count     99992.000000   99992.000000  99992.000000         99992.000000   \n",
       "mean         22.475988      72.470878      3.010041            21.069226   \n",
       "std         129.062455     466.440966     62.650385            14.860600   \n",
       "min           0.000000       1.000000   -100.000000            -5.000000   \n",
       "25%           4.000000       8.000000      1.000000            10.000000   \n",
       "50%           5.000000      13.000000      3.000000            18.000000   \n",
       "75%           7.000000      20.000000      5.000000            28.000000   \n",
       "max        1499.000000    5797.000000   1496.000000            67.000000   \n",
       "\n",
       "       Num_of_Delayed_Payment  Changed_Credit_Limit  Num_Credit_Inquiries  \\\n",
       "count            99992.000000          99992.000000          99992.000000   \n",
       "mean                13.263781             10.393515             27.672354   \n",
       "std                  6.202003              6.512789             68.785564   \n",
       "min                 -2.000000             -5.010000              0.000000   \n",
       "25%                  9.000000              5.500000              3.000000   \n",
       "50%                 14.000000              9.340000              6.000000   \n",
       "75%                 18.000000             14.680000             10.250000   \n",
       "max                 28.000000             29.980000            602.250000   \n",
       "\n",
       "       Outstanding_Debt  Credit_Utilization_Ratio  Credit_History_Age  \\\n",
       "count      99992.000000              99992.000000        99992.000000   \n",
       "mean        1426.232797                 32.285141          221.134191   \n",
       "std         1155.174399                  5.116877           99.684181   \n",
       "min            0.230000                 20.000000            1.000000   \n",
       "25%          566.050000                 28.052567          144.000000   \n",
       "50%         1166.080000                 32.305784          219.000000   \n",
       "75%         1946.810000                 36.496462          302.000000   \n",
       "max         4998.070000                 50.000000          404.000000   \n",
       "\n",
       "       Total_EMI_per_month  Amount_invested_monthly  Monthly_Balance  \n",
       "count         99992.000000             99992.000000     99992.000000  \n",
       "mean           1403.225371               195.755021       403.121113  \n",
       "std            8306.364896               136.847341       175.477742  \n",
       "min               0.000000                14.528879        92.841401  \n",
       "25%              30.306660                97.630668       284.538757  \n",
       "50%              69.266164               152.064614       338.449369  \n",
       "75%             161.224249               257.568430       465.449084  \n",
       "max           82331.000000              1005.847285      1349.264887  "
      ]
     },
     "execution_count": 43,
     "metadata": {},
     "output_type": "execute_result"
    }
   ],
   "source": [
    "traindata.describe()"
   ]
  },
  {
   "cell_type": "code",
   "execution_count": 44,
   "id": "b5b166fb",
   "metadata": {},
   "outputs": [
    {
     "data": {
      "text/plain": [
       "count    99992.000000\n",
       "mean        17.092167\n",
       "std        117.409489\n",
       "min         -1.000000\n",
       "25%          3.000000\n",
       "50%          6.000000\n",
       "75%          7.000000\n",
       "max       1798.000000\n",
       "Name: Num_Bank_Accounts, dtype: float64"
      ]
     },
     "execution_count": 44,
     "metadata": {},
     "output_type": "execute_result"
    }
   ],
   "source": [
    "traindata['Num_Bank_Accounts'].describe()"
   ]
  },
  {
   "cell_type": "code",
   "execution_count": 45,
   "id": "db4d9929",
   "metadata": {},
   "outputs": [],
   "source": [
    "traindata['Num_Bank_Accounts'].replace(-1,0, inplace=True)"
   ]
  },
  {
   "cell_type": "code",
   "execution_count": 46,
   "id": "859740a6",
   "metadata": {},
   "outputs": [
    {
     "data": {
      "text/plain": [
       "6       12993\n",
       "7       12823\n",
       "8       12765\n",
       "4       12186\n",
       "5       12118\n",
       "3       11950\n",
       "9        5443\n",
       "10       5247\n",
       "1        4490\n",
       "0        4349\n",
       "2        4304\n",
       "11          9\n",
       "803         7\n",
       "1668        5\n",
       "105         5\n",
       "791         5\n",
       "1033        4\n",
       "43          4\n",
       "34          4\n",
       "1481        4\n",
       "Name: Num_Bank_Accounts, dtype: int64"
      ]
     },
     "execution_count": 46,
     "metadata": {},
     "output_type": "execute_result"
    }
   ],
   "source": [
    "traindata['Num_Bank_Accounts'].value_counts().sort_values(ascending=False).head(20)"
   ]
  },
  {
   "cell_type": "markdown",
   "id": "b9c5ce41",
   "metadata": {},
   "source": [
    "We can see that the number of bank accounts range from 0 to 1798, from the value counts, we can say that the value greater than 11 is certainly an error"
   ]
  },
  {
   "cell_type": "code",
   "execution_count": 47,
   "id": "ef143f6e",
   "metadata": {},
   "outputs": [
    {
     "name": "stderr",
     "output_type": "stream",
     "text": [
      "C:\\Users\\user\\AppData\\Local\\Temp\\ipykernel_20776\\3591632930.py:2: FutureWarning: Not prepending group keys to the result index of transform-like apply. In the future, the group keys will be included in the index, regardless of whether the applied function returns a like-indexed object.\n",
      "To preserve the previous behavior, use\n",
      "\n",
      "\t>>> .groupby(..., group_keys=False)\n",
      "\n",
      "To adopt the future behavior and silence this warning, use \n",
      "\n",
      "\t>>> .groupby(..., group_keys=True)\n",
      "  traindata['Num_Bank_Accounts']=traindata.groupby('Customer_ID')['Num_Bank_Accounts'].apply(lambda x: x.fillna(x.mode()[0]))\n"
     ]
    }
   ],
   "source": [
    "traindata['Num_Bank_Accounts']=traindata['Num_Bank_Accounts'].apply(lambda x: np.nan if x>11 else x)\n",
    "traindata['Num_Bank_Accounts']=traindata.groupby('Customer_ID')['Num_Bank_Accounts'].apply(lambda x: x.fillna(x.mode()[0]))"
   ]
  },
  {
   "cell_type": "code",
   "execution_count": 48,
   "id": "d63ad03d",
   "metadata": {},
   "outputs": [
    {
     "data": {
      "text/plain": [
       "0        3.0\n",
       "1        3.0\n",
       "2        3.0\n",
       "3        3.0\n",
       "4        3.0\n",
       "        ... \n",
       "99995    4.0\n",
       "99996    4.0\n",
       "99997    4.0\n",
       "99998    4.0\n",
       "99999    4.0\n",
       "Name: Num_Bank_Accounts, Length: 99992, dtype: float64"
      ]
     },
     "execution_count": 48,
     "metadata": {},
     "output_type": "execute_result"
    }
   ],
   "source": [
    "traindata['Num_Bank_Accounts']"
   ]
  },
  {
   "cell_type": "code",
   "execution_count": 49,
   "id": "f9793940",
   "metadata": {},
   "outputs": [
    {
     "data": {
      "text/plain": [
       "count    99992.000000\n",
       "mean        22.475988\n",
       "std        129.062455\n",
       "min          0.000000\n",
       "25%          4.000000\n",
       "50%          5.000000\n",
       "75%          7.000000\n",
       "max       1499.000000\n",
       "Name: Num_Credit_Card, dtype: float64"
      ]
     },
     "execution_count": 49,
     "metadata": {},
     "output_type": "execute_result"
    }
   ],
   "source": [
    "traindata['Num_Credit_Card'].describe()"
   ]
  },
  {
   "cell_type": "code",
   "execution_count": 50,
   "id": "537e7df6",
   "metadata": {},
   "outputs": [
    {
     "data": {
      "text/plain": [
       "5      18459\n",
       "7      16615\n",
       "6      16559\n",
       "4      14030\n",
       "3      13269\n",
       "8       4956\n",
       "10      4860\n",
       "9       4643\n",
       "2       2149\n",
       "1       2132\n",
       "11        36\n",
       "0         13\n",
       "849        8\n",
       "852        7\n",
       "159        6\n",
       "Name: Num_Credit_Card, dtype: int64"
      ]
     },
     "execution_count": 50,
     "metadata": {},
     "output_type": "execute_result"
    }
   ],
   "source": [
    "traindata['Num_Credit_Card'].value_counts().sort_values(ascending=False).head(15)"
   ]
  },
  {
   "cell_type": "markdown",
   "id": "012b42c6",
   "metadata": {},
   "source": [
    "We can see that the number of credit cards range from 0 to 1499, from the value counts, we can say that the value greater than 11 is certainly an error"
   ]
  },
  {
   "cell_type": "code",
   "execution_count": 51,
   "id": "05062f66",
   "metadata": {},
   "outputs": [
    {
     "name": "stderr",
     "output_type": "stream",
     "text": [
      "C:\\Users\\user\\AppData\\Local\\Temp\\ipykernel_20776\\3241945591.py:2: FutureWarning: Not prepending group keys to the result index of transform-like apply. In the future, the group keys will be included in the index, regardless of whether the applied function returns a like-indexed object.\n",
      "To preserve the previous behavior, use\n",
      "\n",
      "\t>>> .groupby(..., group_keys=False)\n",
      "\n",
      "To adopt the future behavior and silence this warning, use \n",
      "\n",
      "\t>>> .groupby(..., group_keys=True)\n",
      "  traindata['Num_Credit_Card']=traindata.groupby('Customer_ID')['Num_Credit_Card'].apply(lambda x: x.fillna(x.mode()[0]))\n"
     ]
    }
   ],
   "source": [
    "traindata['Num_Credit_Card']=traindata['Num_Credit_Card'].apply(lambda x: np.nan if x>11 else x)\n",
    "traindata['Num_Credit_Card']=traindata.groupby('Customer_ID')['Num_Credit_Card'].apply(lambda x: x.fillna(x.mode()[0]))"
   ]
  },
  {
   "cell_type": "code",
   "execution_count": 52,
   "id": "44471f04",
   "metadata": {},
   "outputs": [
    {
     "data": {
      "text/plain": [
       "0"
      ]
     },
     "execution_count": 52,
     "metadata": {},
     "output_type": "execute_result"
    }
   ],
   "source": [
    "traindata['Num_Credit_Card'].isna().sum()"
   ]
  },
  {
   "cell_type": "code",
   "execution_count": 53,
   "id": "f426b9cb",
   "metadata": {},
   "outputs": [
    {
     "data": {
      "text/plain": [
       "count    99992.000000\n",
       "mean         5.533883\n",
       "std          2.067084\n",
       "min          0.000000\n",
       "25%          4.000000\n",
       "50%          5.000000\n",
       "75%          7.000000\n",
       "max         11.000000\n",
       "Name: Num_Credit_Card, dtype: float64"
      ]
     },
     "execution_count": 53,
     "metadata": {},
     "output_type": "execute_result"
    }
   ],
   "source": [
    "traindata['Num_Credit_Card'].describe()"
   ]
  },
  {
   "cell_type": "code",
   "execution_count": 54,
   "id": "4baf4fe2",
   "metadata": {},
   "outputs": [
    {
     "data": {
      "text/plain": [
       "count    99992.000000\n",
       "mean        72.470878\n",
       "std        466.440966\n",
       "min          1.000000\n",
       "25%          8.000000\n",
       "50%         13.000000\n",
       "75%         20.000000\n",
       "max       5797.000000\n",
       "Name: Interest_Rate, dtype: float64"
      ]
     },
     "execution_count": 54,
     "metadata": {},
     "output_type": "execute_result"
    }
   ],
   "source": [
    "traindata['Interest_Rate'].describe()"
   ]
  },
  {
   "cell_type": "markdown",
   "id": "80d49ea0",
   "metadata": {},
   "source": [
    "Assuming that the realistic interest value is upto 50%, imputing all other values"
   ]
  },
  {
   "cell_type": "code",
   "execution_count": 55,
   "id": "10d3a136",
   "metadata": {},
   "outputs": [
    {
     "name": "stderr",
     "output_type": "stream",
     "text": [
      "C:\\Users\\user\\AppData\\Local\\Temp\\ipykernel_20776\\1369711673.py:2: FutureWarning: Not prepending group keys to the result index of transform-like apply. In the future, the group keys will be included in the index, regardless of whether the applied function returns a like-indexed object.\n",
      "To preserve the previous behavior, use\n",
      "\n",
      "\t>>> .groupby(..., group_keys=False)\n",
      "\n",
      "To adopt the future behavior and silence this warning, use \n",
      "\n",
      "\t>>> .groupby(..., group_keys=True)\n",
      "  traindata['Interest_Rate']=traindata.groupby('Customer_ID')['Interest_Rate'].apply(lambda x: x.fillna(x.mode()[0]))\n"
     ]
    }
   ],
   "source": [
    "traindata['Interest_Rate']=traindata['Interest_Rate'].apply(lambda x: np.nan if x>50 else x)\n",
    "traindata['Interest_Rate']=traindata.groupby('Customer_ID')['Interest_Rate'].apply(lambda x: x.fillna(x.mode()[0]))"
   ]
  },
  {
   "cell_type": "code",
   "execution_count": 56,
   "id": "36b795c1",
   "metadata": {},
   "outputs": [
    {
     "data": {
      "text/plain": [
       "count    99992.000000\n",
       "mean        14.532283\n",
       "std          8.741651\n",
       "min          1.000000\n",
       "25%          7.000000\n",
       "50%         13.000000\n",
       "75%         20.000000\n",
       "max         34.000000\n",
       "Name: Interest_Rate, dtype: float64"
      ]
     },
     "execution_count": 56,
     "metadata": {},
     "output_type": "execute_result"
    }
   ],
   "source": [
    "traindata['Interest_Rate'].describe()"
   ]
  },
  {
   "cell_type": "code",
   "execution_count": 57,
   "id": "d55973dc",
   "metadata": {},
   "outputs": [
    {
     "data": {
      "text/plain": [
       "0"
      ]
     },
     "execution_count": 57,
     "metadata": {},
     "output_type": "execute_result"
    }
   ],
   "source": [
    "traindata['Interest_Rate'].isna().sum()"
   ]
  },
  {
   "cell_type": "code",
   "execution_count": 58,
   "id": "927c3997",
   "metadata": {},
   "outputs": [
    {
     "data": {
      "text/plain": [
       "count    99992.000000\n",
       "mean         3.010041\n",
       "std         62.650385\n",
       "min       -100.000000\n",
       "25%          1.000000\n",
       "50%          3.000000\n",
       "75%          5.000000\n",
       "max       1496.000000\n",
       "Name: Num_of_Loan, dtype: float64"
      ]
     },
     "execution_count": 58,
     "metadata": {},
     "output_type": "execute_result"
    }
   ],
   "source": [
    "traindata['Num_of_Loan'].describe()"
   ]
  },
  {
   "cell_type": "code",
   "execution_count": 59,
   "id": "99bd54b5",
   "metadata": {},
   "outputs": [
    {
     "data": {
      "text/plain": [
       " 3.0       15104\n",
       " 2.0       15024\n",
       " 4.0       14743\n",
       " 0.0       10930\n",
       " 1.0       10606\n",
       " 6.0        7803\n",
       " 7.0        7344\n",
       " 5.0        7197\n",
       "-100.0      3876\n",
       " 9.0        3702\n",
       " 8.0        3191\n",
       " 1150.0        4\n",
       " 288.0         3\n",
       " 430.0         3\n",
       " 773.0         3\n",
       "Name: Num_of_Loan, dtype: int64"
      ]
     },
     "execution_count": 59,
     "metadata": {},
     "output_type": "execute_result"
    }
   ],
   "source": [
    "traindata['Num_of_Loan'].value_counts().sort_values(ascending=False).head(15)"
   ]
  },
  {
   "cell_type": "code",
   "execution_count": 60,
   "id": "ba61acf1",
   "metadata": {},
   "outputs": [
    {
     "name": "stderr",
     "output_type": "stream",
     "text": [
      "C:\\Users\\user\\AppData\\Local\\Temp\\ipykernel_20776\\2498280471.py:2: FutureWarning: Not prepending group keys to the result index of transform-like apply. In the future, the group keys will be included in the index, regardless of whether the applied function returns a like-indexed object.\n",
      "To preserve the previous behavior, use\n",
      "\n",
      "\t>>> .groupby(..., group_keys=False)\n",
      "\n",
      "To adopt the future behavior and silence this warning, use \n",
      "\n",
      "\t>>> .groupby(..., group_keys=True)\n",
      "  traindata['Num_of_Loan']=traindata.groupby('Customer_ID')['Num_of_Loan'].apply(lambda x: x.fillna(x.mode()[0]))\n"
     ]
    }
   ],
   "source": [
    "traindata['Num_of_Loan']=traindata['Num_of_Loan'].apply(lambda x: np.nan if x<0 or x>10 else x)\n",
    "traindata['Num_of_Loan']=traindata.groupby('Customer_ID')['Num_of_Loan'].apply(lambda x: x.fillna(x.mode()[0]))"
   ]
  },
  {
   "cell_type": "code",
   "execution_count": 61,
   "id": "8ff27d5a",
   "metadata": {},
   "outputs": [
    {
     "data": {
      "text/plain": [
       "0"
      ]
     },
     "execution_count": 61,
     "metadata": {},
     "output_type": "execute_result"
    }
   ],
   "source": [
    "traindata['Num_of_Loan'].isna().sum()"
   ]
  },
  {
   "cell_type": "code",
   "execution_count": 62,
   "id": "1ba05b8a",
   "metadata": {},
   "outputs": [
    {
     "data": {
      "text/plain": [
       "count    99992.000000\n",
       "mean         3.533003\n",
       "std          2.446416\n",
       "min          0.000000\n",
       "25%          2.000000\n",
       "50%          3.000000\n",
       "75%          5.000000\n",
       "max          9.000000\n",
       "Name: Num_of_Loan, dtype: float64"
      ]
     },
     "execution_count": 62,
     "metadata": {},
     "output_type": "execute_result"
    }
   ],
   "source": [
    "traindata['Num_of_Loan'].describe()"
   ]
  },
  {
   "cell_type": "code",
   "execution_count": 63,
   "id": "2a30fdaf",
   "metadata": {},
   "outputs": [
    {
     "name": "stderr",
     "output_type": "stream",
     "text": [
      "C:\\Users\\user\\AppData\\Local\\Temp\\ipykernel_20776\\1895700395.py:2: FutureWarning: Not prepending group keys to the result index of transform-like apply. In the future, the group keys will be included in the index, regardless of whether the applied function returns a like-indexed object.\n",
      "To preserve the previous behavior, use\n",
      "\n",
      "\t>>> .groupby(..., group_keys=False)\n",
      "\n",
      "To adopt the future behavior and silence this warning, use \n",
      "\n",
      "\t>>> .groupby(..., group_keys=True)\n",
      "  traindata['Num_of_Delayed_Payment']=traindata.groupby('Customer_ID')['Num_of_Delayed_Payment'].apply(lambda x: x.fillna(0))\n"
     ]
    }
   ],
   "source": [
    "traindata['Num_of_Delayed_Payment']=traindata['Num_of_Delayed_Payment'].apply(lambda x: np.nan if x<0 else x)\n",
    "traindata['Num_of_Delayed_Payment']=traindata.groupby('Customer_ID')['Num_of_Delayed_Payment'].apply(lambda x: x.fillna(0))"
   ]
  },
  {
   "cell_type": "code",
   "execution_count": 64,
   "id": "47feec8e",
   "metadata": {},
   "outputs": [
    {
     "data": {
      "text/plain": [
       "count    99992.000000\n",
       "mean        13.265541\n",
       "std          6.197992\n",
       "min          0.000000\n",
       "25%          9.000000\n",
       "50%         14.000000\n",
       "75%         18.000000\n",
       "max         28.000000\n",
       "Name: Num_of_Delayed_Payment, dtype: float64"
      ]
     },
     "execution_count": 64,
     "metadata": {},
     "output_type": "execute_result"
    }
   ],
   "source": [
    "traindata['Num_of_Delayed_Payment'].describe()"
   ]
  },
  {
   "cell_type": "code",
   "execution_count": 65,
   "id": "5b30347f",
   "metadata": {},
   "outputs": [
    {
     "data": {
      "text/plain": [
       "0"
      ]
     },
     "execution_count": 65,
     "metadata": {},
     "output_type": "execute_result"
    }
   ],
   "source": [
    "traindata['Num_of_Delayed_Payment'].isna().sum()"
   ]
  },
  {
   "cell_type": "code",
   "execution_count": 66,
   "id": "b57fcae7",
   "metadata": {},
   "outputs": [
    {
     "data": {
      "text/plain": [
       "count    99992.000000\n",
       "mean      1403.225371\n",
       "std       8306.364896\n",
       "min          0.000000\n",
       "25%         30.306660\n",
       "50%         69.266164\n",
       "75%        161.224249\n",
       "max      82331.000000\n",
       "Name: Total_EMI_per_month, dtype: float64"
      ]
     },
     "execution_count": 66,
     "metadata": {},
     "output_type": "execute_result"
    }
   ],
   "source": [
    "traindata['Total_EMI_per_month'].describe()"
   ]
  },
  {
   "cell_type": "code",
   "execution_count": 67,
   "id": "a951870c",
   "metadata": {},
   "outputs": [],
   "source": [
    "totalemi=traindata['Total_EMI_per_month'].value_counts().sort_values(ascending=False)"
   ]
  },
  {
   "cell_type": "code",
   "execution_count": 68,
   "id": "926d8c31",
   "metadata": {},
   "outputs": [],
   "source": [
    "traindata['Total_EMI_per_month']=traindata.groupby('Customer_ID')['Total_EMI_per_month'].transform(lambda x: x.mode()[0])"
   ]
  },
  {
   "cell_type": "code",
   "execution_count": 69,
   "id": "42ab92e1",
   "metadata": {},
   "outputs": [
    {
     "data": {
      "text/plain": [
       "count    99992.000000\n",
       "mean       105.546711\n",
       "std        125.814509\n",
       "min          0.000000\n",
       "25%         29.045533\n",
       "50%         66.052460\n",
       "75%        145.584994\n",
       "max       1779.103254\n",
       "Name: Total_EMI_per_month, dtype: float64"
      ]
     },
     "execution_count": 69,
     "metadata": {},
     "output_type": "execute_result"
    }
   ],
   "source": [
    "traindata['Total_EMI_per_month'].describe()"
   ]
  },
  {
   "cell_type": "code",
   "execution_count": 70,
   "id": "9ee06ed8",
   "metadata": {},
   "outputs": [
    {
     "data": {
      "text/plain": [
       "count    99992.000000\n",
       "mean        21.069226\n",
       "std         14.860600\n",
       "min         -5.000000\n",
       "25%         10.000000\n",
       "50%         18.000000\n",
       "75%         28.000000\n",
       "max         67.000000\n",
       "Name: Delay_from_due_date, dtype: float64"
      ]
     },
     "execution_count": 70,
     "metadata": {},
     "output_type": "execute_result"
    }
   ],
   "source": [
    "traindata[\"Delay_from_due_date\"].describe()"
   ]
  },
  {
   "cell_type": "code",
   "execution_count": 71,
   "id": "49d6066a",
   "metadata": {},
   "outputs": [
    {
     "data": {
      "text/plain": [
       "Customer_ID                 0\n",
       "Month                       0\n",
       "Age                         0\n",
       "Occupation                  0\n",
       "Annual_Income               0\n",
       "Monthly_Inhand_Salary       0\n",
       "Num_Bank_Accounts           0\n",
       "Num_Credit_Card             0\n",
       "Interest_Rate               0\n",
       "Num_of_Loan                 0\n",
       "Delay_from_due_date         0\n",
       "Num_of_Delayed_Payment      0\n",
       "Changed_Credit_Limit        0\n",
       "Num_Credit_Inquiries        0\n",
       "Credit_Mix                  0\n",
       "Outstanding_Debt            0\n",
       "Credit_Utilization_Ratio    0\n",
       "Credit_History_Age          0\n",
       "Payment_of_Min_Amount       0\n",
       "Total_EMI_per_month         0\n",
       "Amount_invested_monthly     0\n",
       "Payment_Behaviour           0\n",
       "Monthly_Balance             0\n",
       "Credit_Score                0\n",
       "dtype: int64"
      ]
     },
     "execution_count": 71,
     "metadata": {},
     "output_type": "execute_result"
    }
   ],
   "source": [
    "traindata.isna().sum()"
   ]
  },
  {
   "cell_type": "code",
   "execution_count": 72,
   "id": "d8127a17",
   "metadata": {},
   "outputs": [
    {
     "data": {
      "text/plain": [
       "(99992, 24)"
      ]
     },
     "execution_count": 72,
     "metadata": {},
     "output_type": "execute_result"
    }
   ],
   "source": [
    "traindata.shape"
   ]
  },
  {
   "cell_type": "markdown",
   "id": "e343d514",
   "metadata": {},
   "source": [
    "# EDA"
   ]
  },
  {
   "cell_type": "code",
   "execution_count": 73,
   "id": "dbf3b2fc",
   "metadata": {},
   "outputs": [],
   "source": [
    "traindata.drop(['Customer_ID'], axis=1, inplace=True)"
   ]
  },
  {
   "cell_type": "code",
   "execution_count": 74,
   "id": "fd20a9ba",
   "metadata": {},
   "outputs": [
    {
     "name": "stdout",
     "output_type": "stream",
     "text": [
      "<class 'pandas.core.frame.DataFrame'>\n",
      "Int64Index: 99992 entries, 0 to 99999\n",
      "Data columns (total 23 columns):\n",
      " #   Column                    Non-Null Count  Dtype   \n",
      "---  ------                    --------------  -----   \n",
      " 0   Month                     99992 non-null  category\n",
      " 1   Age                       99992 non-null  float64 \n",
      " 2   Occupation                99992 non-null  category\n",
      " 3   Annual_Income             99992 non-null  float64 \n",
      " 4   Monthly_Inhand_Salary     99992 non-null  float64 \n",
      " 5   Num_Bank_Accounts         99992 non-null  float64 \n",
      " 6   Num_Credit_Card           99992 non-null  float64 \n",
      " 7   Interest_Rate             99992 non-null  float64 \n",
      " 8   Num_of_Loan               99992 non-null  float64 \n",
      " 9   Delay_from_due_date       99992 non-null  int64   \n",
      " 10  Num_of_Delayed_Payment    99992 non-null  float64 \n",
      " 11  Changed_Credit_Limit      99992 non-null  float64 \n",
      " 12  Num_Credit_Inquiries      99992 non-null  float64 \n",
      " 13  Credit_Mix                99992 non-null  category\n",
      " 14  Outstanding_Debt          99992 non-null  float64 \n",
      " 15  Credit_Utilization_Ratio  99992 non-null  float64 \n",
      " 16  Credit_History_Age        99992 non-null  float64 \n",
      " 17  Payment_of_Min_Amount     99992 non-null  category\n",
      " 18  Total_EMI_per_month       99992 non-null  float64 \n",
      " 19  Amount_invested_monthly   99992 non-null  float64 \n",
      " 20  Payment_Behaviour         99992 non-null  category\n",
      " 21  Monthly_Balance           99992 non-null  float64 \n",
      " 22  Credit_Score              99992 non-null  category\n",
      "dtypes: category(6), float64(16), int64(1)\n",
      "memory usage: 14.3 MB\n"
     ]
    }
   ],
   "source": [
    "traindata.info()"
   ]
  },
  {
   "cell_type": "code",
   "execution_count": 75,
   "id": "381027e6",
   "metadata": {},
   "outputs": [
    {
     "data": {
      "text/html": [
       "<div>\n",
       "<style scoped>\n",
       "    .dataframe tbody tr th:only-of-type {\n",
       "        vertical-align: middle;\n",
       "    }\n",
       "\n",
       "    .dataframe tbody tr th {\n",
       "        vertical-align: top;\n",
       "    }\n",
       "\n",
       "    .dataframe thead th {\n",
       "        text-align: right;\n",
       "    }\n",
       "</style>\n",
       "<table border=\"1\" class=\"dataframe\">\n",
       "  <thead>\n",
       "    <tr style=\"text-align: right;\">\n",
       "      <th></th>\n",
       "      <th>Month</th>\n",
       "      <th>Age</th>\n",
       "      <th>Occupation</th>\n",
       "      <th>Annual_Income</th>\n",
       "      <th>Monthly_Inhand_Salary</th>\n",
       "      <th>Num_Bank_Accounts</th>\n",
       "      <th>Num_Credit_Card</th>\n",
       "      <th>Interest_Rate</th>\n",
       "      <th>Num_of_Loan</th>\n",
       "      <th>Delay_from_due_date</th>\n",
       "      <th>Num_of_Delayed_Payment</th>\n",
       "      <th>Changed_Credit_Limit</th>\n",
       "      <th>Num_Credit_Inquiries</th>\n",
       "      <th>Credit_Mix</th>\n",
       "      <th>Outstanding_Debt</th>\n",
       "      <th>Credit_Utilization_Ratio</th>\n",
       "      <th>Credit_History_Age</th>\n",
       "      <th>Payment_of_Min_Amount</th>\n",
       "      <th>Total_EMI_per_month</th>\n",
       "      <th>Amount_invested_monthly</th>\n",
       "      <th>Payment_Behaviour</th>\n",
       "      <th>Monthly_Balance</th>\n",
       "      <th>Credit_Score</th>\n",
       "    </tr>\n",
       "  </thead>\n",
       "  <tbody>\n",
       "    <tr>\n",
       "      <th>0</th>\n",
       "      <td>January</td>\n",
       "      <td>23.0</td>\n",
       "      <td>Scientist</td>\n",
       "      <td>19114.12</td>\n",
       "      <td>1824.843333</td>\n",
       "      <td>3.0</td>\n",
       "      <td>4.0</td>\n",
       "      <td>3.0</td>\n",
       "      <td>4.0</td>\n",
       "      <td>3</td>\n",
       "      <td>4.0</td>\n",
       "      <td>11.27</td>\n",
       "      <td>4.0</td>\n",
       "      <td>Good</td>\n",
       "      <td>809.98</td>\n",
       "      <td>26.822620</td>\n",
       "      <td>265.0</td>\n",
       "      <td>No</td>\n",
       "      <td>49.574949</td>\n",
       "      <td>98.35409</td>\n",
       "      <td>High_spent_Small_value_payments</td>\n",
       "      <td>304.555294</td>\n",
       "      <td>Good</td>\n",
       "    </tr>\n",
       "    <tr>\n",
       "      <th>1</th>\n",
       "      <td>February</td>\n",
       "      <td>23.0</td>\n",
       "      <td>Scientist</td>\n",
       "      <td>19114.12</td>\n",
       "      <td>1824.843333</td>\n",
       "      <td>3.0</td>\n",
       "      <td>4.0</td>\n",
       "      <td>3.0</td>\n",
       "      <td>4.0</td>\n",
       "      <td>-1</td>\n",
       "      <td>4.0</td>\n",
       "      <td>11.27</td>\n",
       "      <td>4.0</td>\n",
       "      <td>Good</td>\n",
       "      <td>809.98</td>\n",
       "      <td>31.944960</td>\n",
       "      <td>265.0</td>\n",
       "      <td>No</td>\n",
       "      <td>49.574949</td>\n",
       "      <td>98.35409</td>\n",
       "      <td>Low_spent_Large_value_payments</td>\n",
       "      <td>304.555294</td>\n",
       "      <td>Good</td>\n",
       "    </tr>\n",
       "    <tr>\n",
       "      <th>2</th>\n",
       "      <td>March</td>\n",
       "      <td>23.0</td>\n",
       "      <td>Scientist</td>\n",
       "      <td>19114.12</td>\n",
       "      <td>1824.843333</td>\n",
       "      <td>3.0</td>\n",
       "      <td>4.0</td>\n",
       "      <td>3.0</td>\n",
       "      <td>4.0</td>\n",
       "      <td>3</td>\n",
       "      <td>4.0</td>\n",
       "      <td>11.27</td>\n",
       "      <td>4.0</td>\n",
       "      <td>Good</td>\n",
       "      <td>809.98</td>\n",
       "      <td>28.609352</td>\n",
       "      <td>267.0</td>\n",
       "      <td>No</td>\n",
       "      <td>49.574949</td>\n",
       "      <td>98.35409</td>\n",
       "      <td>Low_spent_Medium_value_payments</td>\n",
       "      <td>304.555294</td>\n",
       "      <td>Good</td>\n",
       "    </tr>\n",
       "    <tr>\n",
       "      <th>3</th>\n",
       "      <td>April</td>\n",
       "      <td>23.0</td>\n",
       "      <td>Scientist</td>\n",
       "      <td>19114.12</td>\n",
       "      <td>1824.843333</td>\n",
       "      <td>3.0</td>\n",
       "      <td>4.0</td>\n",
       "      <td>3.0</td>\n",
       "      <td>4.0</td>\n",
       "      <td>5</td>\n",
       "      <td>4.0</td>\n",
       "      <td>11.27</td>\n",
       "      <td>4.0</td>\n",
       "      <td>Good</td>\n",
       "      <td>809.98</td>\n",
       "      <td>31.377862</td>\n",
       "      <td>268.0</td>\n",
       "      <td>No</td>\n",
       "      <td>49.574949</td>\n",
       "      <td>98.35409</td>\n",
       "      <td>Low_spent_Small_value_payments</td>\n",
       "      <td>304.555294</td>\n",
       "      <td>Good</td>\n",
       "    </tr>\n",
       "    <tr>\n",
       "      <th>4</th>\n",
       "      <td>May</td>\n",
       "      <td>23.0</td>\n",
       "      <td>Scientist</td>\n",
       "      <td>19114.12</td>\n",
       "      <td>1824.843333</td>\n",
       "      <td>3.0</td>\n",
       "      <td>4.0</td>\n",
       "      <td>3.0</td>\n",
       "      <td>4.0</td>\n",
       "      <td>6</td>\n",
       "      <td>4.0</td>\n",
       "      <td>11.27</td>\n",
       "      <td>4.0</td>\n",
       "      <td>Good</td>\n",
       "      <td>809.98</td>\n",
       "      <td>24.797347</td>\n",
       "      <td>269.0</td>\n",
       "      <td>No</td>\n",
       "      <td>49.574949</td>\n",
       "      <td>98.35409</td>\n",
       "      <td>High_spent_Medium_value_payments</td>\n",
       "      <td>304.555294</td>\n",
       "      <td>Good</td>\n",
       "    </tr>\n",
       "  </tbody>\n",
       "</table>\n",
       "</div>"
      ],
      "text/plain": [
       "      Month   Age Occupation  Annual_Income  Monthly_Inhand_Salary  \\\n",
       "0   January  23.0  Scientist       19114.12            1824.843333   \n",
       "1  February  23.0  Scientist       19114.12            1824.843333   \n",
       "2     March  23.0  Scientist       19114.12            1824.843333   \n",
       "3     April  23.0  Scientist       19114.12            1824.843333   \n",
       "4       May  23.0  Scientist       19114.12            1824.843333   \n",
       "\n",
       "   Num_Bank_Accounts  Num_Credit_Card  Interest_Rate  Num_of_Loan  \\\n",
       "0                3.0              4.0            3.0          4.0   \n",
       "1                3.0              4.0            3.0          4.0   \n",
       "2                3.0              4.0            3.0          4.0   \n",
       "3                3.0              4.0            3.0          4.0   \n",
       "4                3.0              4.0            3.0          4.0   \n",
       "\n",
       "   Delay_from_due_date  Num_of_Delayed_Payment  Changed_Credit_Limit  \\\n",
       "0                    3                     4.0                 11.27   \n",
       "1                   -1                     4.0                 11.27   \n",
       "2                    3                     4.0                 11.27   \n",
       "3                    5                     4.0                 11.27   \n",
       "4                    6                     4.0                 11.27   \n",
       "\n",
       "   Num_Credit_Inquiries Credit_Mix  Outstanding_Debt  \\\n",
       "0                   4.0       Good            809.98   \n",
       "1                   4.0       Good            809.98   \n",
       "2                   4.0       Good            809.98   \n",
       "3                   4.0       Good            809.98   \n",
       "4                   4.0       Good            809.98   \n",
       "\n",
       "   Credit_Utilization_Ratio  Credit_History_Age Payment_of_Min_Amount  \\\n",
       "0                 26.822620               265.0                    No   \n",
       "1                 31.944960               265.0                    No   \n",
       "2                 28.609352               267.0                    No   \n",
       "3                 31.377862               268.0                    No   \n",
       "4                 24.797347               269.0                    No   \n",
       "\n",
       "   Total_EMI_per_month  Amount_invested_monthly  \\\n",
       "0            49.574949                 98.35409   \n",
       "1            49.574949                 98.35409   \n",
       "2            49.574949                 98.35409   \n",
       "3            49.574949                 98.35409   \n",
       "4            49.574949                 98.35409   \n",
       "\n",
       "                  Payment_Behaviour  Monthly_Balance Credit_Score  \n",
       "0   High_spent_Small_value_payments       304.555294         Good  \n",
       "1    Low_spent_Large_value_payments       304.555294         Good  \n",
       "2   Low_spent_Medium_value_payments       304.555294         Good  \n",
       "3    Low_spent_Small_value_payments       304.555294         Good  \n",
       "4  High_spent_Medium_value_payments       304.555294         Good  "
      ]
     },
     "execution_count": 75,
     "metadata": {},
     "output_type": "execute_result"
    }
   ],
   "source": [
    "traindata.head()"
   ]
  },
  {
   "cell_type": "code",
   "execution_count": 76,
   "id": "078b073a",
   "metadata": {},
   "outputs": [
    {
     "data": {
      "image/png": "[encoded data removed]",
      "text/plain": [
       "<Figure size 640x480 with 1 Axes>"
      ]
     },
     "metadata": {},
     "output_type": "display_data"
    }
   ],
   "source": [
    "plt.pie(traindata['Credit_Score'].value_counts(), labels=traindata['Credit_Score'].value_counts().index, autopct='%.1f')\n",
    "plt.show()"
   ]
  },
  {
   "cell_type": "code",
   "execution_count": 77,
   "id": "f9ede9d4",
   "metadata": {},
   "outputs": [
    {
     "data": {
      "text/plain": [
       "(99992, 23)"
      ]
     },
     "execution_count": 77,
     "metadata": {},
     "output_type": "execute_result"
    }
   ],
   "source": [
    "traindata.shape"
   ]
  },
  {
   "cell_type": "markdown",
   "id": "94d2b75e",
   "metadata": {},
   "source": [
    "# Data Preprocessing"
   ]
  },
  {
   "cell_type": "code",
   "execution_count": 78,
   "id": "58e953ad",
   "metadata": {},
   "outputs": [],
   "source": [
    "cat_df=traindata.select_dtypes('category')"
   ]
  },
  {
   "cell_type": "code",
   "execution_count": 79,
   "id": "2760c9e8",
   "metadata": {},
   "outputs": [],
   "source": [
    "num_df=traindata.select_dtypes(exclude='category')"
   ]
  },
  {
   "cell_type": "code",
   "execution_count": 80,
   "id": "06a74be3",
   "metadata": {},
   "outputs": [],
   "source": [
    "cols=cat_df.columns"
   ]
  },
  {
   "cell_type": "code",
   "execution_count": 81,
   "id": "cb63d911",
   "metadata": {},
   "outputs": [
    {
     "data": {
      "text/plain": [
       "Index(['Month', 'Occupation', 'Credit_Mix', 'Payment_of_Min_Amount',\n",
       "       'Payment_Behaviour', 'Credit_Score'],\n",
       "      dtype='object')"
      ]
     },
     "execution_count": 81,
     "metadata": {},
     "output_type": "execute_result"
    }
   ],
   "source": [
    "cols"
   ]
  },
  {
   "cell_type": "code",
   "execution_count": 82,
   "id": "9afb4b97",
   "metadata": {},
   "outputs": [
    {
     "name": "stdout",
     "output_type": "stream",
     "text": [
      "['January', 'February', 'March', 'April', 'May', 'June', 'July', 'August']\n",
      "Categories (8, object): ['April', 'August', 'February', 'January', 'July', 'June', 'March', 'May']\n",
      "['Scientist', 'Teacher', 'Engineer', 'Entrepreneur', 'Developer', ..., 'Accountant', 'Musician', 'Mechanic', 'Writer', 'Architect']\n",
      "Length: 15\n",
      "Categories (15, object): ['Accountant', 'Architect', 'Developer', 'Doctor', ..., 'Musician', 'Scientist', 'Teacher', 'Writer']\n",
      "['Good', 'Standard', 'Bad']\n",
      "Categories (3, object): ['Bad', 'Good', 'Standard']\n",
      "['No', 'NM', 'Yes']\n",
      "Categories (3, object): ['NM', 'No', 'Yes']\n",
      "['High_spent_Small_value_payments', 'Low_spent_Large_value_payments', 'Low_spent_Medium_value_payments', 'Low_spent_Small_value_payments', 'High_spent_Medium_value_payments', 'High_spent_Large_value_payments']\n",
      "Categories (6, object): ['High_spent_Large_value_payments', 'High_spent_Medium_value_payments', 'High_spent_Small_value_payments', 'Low_spent_Large_value_payments', 'Low_spent_Medium_value_payments', 'Low_spent_Small_value_payments']\n",
      "['Good', 'Standard', 'Poor']\n",
      "Categories (3, object): ['Good', 'Poor', 'Standard']\n"
     ]
    }
   ],
   "source": [
    "for col in cols:\n",
    "    print(traindata[col].unique())"
   ]
  },
  {
   "cell_type": "code",
   "execution_count": null,
   "id": "49ea8067",
   "metadata": {},
   "outputs": [],
   "source": []
  },
  {
   "cell_type": "markdown",
   "id": "8e40778c",
   "metadata": {},
   "source": [
    "### Encoding"
   ]
  },
  {
   "cell_type": "code",
   "execution_count": 83,
   "id": "cd1967c2",
   "metadata": {},
   "outputs": [],
   "source": [
    "traindata['Credit_Mix']=traindata['Credit_Mix'].map({'Bad':0, 'Standard':1, 'Good':2})"
   ]
  },
  {
   "cell_type": "code",
   "execution_count": 84,
   "id": "0e7833fb",
   "metadata": {},
   "outputs": [],
   "source": [
    "traindata['Credit_Score']=traindata['Credit_Score'].map({'Poor':0, 'Standard':1, 'Good':2})"
   ]
  },
  {
   "cell_type": "code",
   "execution_count": 85,
   "id": "8d362b5d",
   "metadata": {},
   "outputs": [],
   "source": [
    "traindata['Credit_Mix']=traindata['Credit_Mix'].astype('int')\n",
    "traindata['Credit_Score']=traindata['Credit_Score'].astype('int')"
   ]
  },
  {
   "cell_type": "code",
   "execution_count": 86,
   "id": "4fd5626e",
   "metadata": {},
   "outputs": [],
   "source": [
    "LE=LabelEncoder()"
   ]
  },
  {
   "cell_type": "code",
   "execution_count": 87,
   "id": "bbaf83d4",
   "metadata": {},
   "outputs": [],
   "source": [
    "OccupationCounts=traindata['Occupation'].value_counts()"
   ]
  },
  {
   "cell_type": "code",
   "execution_count": 88,
   "id": "ba0c534f",
   "metadata": {},
   "outputs": [
    {
     "data": {
      "text/plain": [
       "Lawyer           7096\n",
       "Engineer         6864\n",
       "Architect        6824\n",
       "Mechanic         6776\n",
       "Accountant       6744\n",
       "Scientist        6744\n",
       "Developer        6720\n",
       "Media_Manager    6712\n",
       "Teacher          6672\n",
       "Entrepreneur     6648\n",
       "Doctor           6568\n",
       "Journalist       6536\n",
       "Manager          6432\n",
       "Musician         6352\n",
       "Writer           6304\n",
       "Name: Occupation, dtype: int64"
      ]
     },
     "execution_count": 88,
     "metadata": {},
     "output_type": "execute_result"
    }
   ],
   "source": [
    "OccupationCounts"
   ]
  },
  {
   "cell_type": "code",
   "execution_count": 89,
   "id": "d5775860",
   "metadata": {},
   "outputs": [],
   "source": [
    "traindata['Occupation']=traindata['Occupation'].map(OccupationCounts)"
   ]
  },
  {
   "cell_type": "code",
   "execution_count": 90,
   "id": "da9e3132",
   "metadata": {},
   "outputs": [],
   "source": [
    "traindata['Month']=LE.fit_transform(traindata['Month'])"
   ]
  },
  {
   "cell_type": "code",
   "execution_count": 91,
   "id": "5b5cd07b",
   "metadata": {},
   "outputs": [],
   "source": [
    "dummy_df=pd.get_dummies(traindata[['Payment_Behaviour', 'Payment_of_Min_Amount']], drop_first=True)"
   ]
  },
  {
   "cell_type": "code",
   "execution_count": 92,
   "id": "e89e532e",
   "metadata": {},
   "outputs": [],
   "source": [
    "traindata=pd.concat([traindata, dummy_df], axis=1)\n",
    "traindata.drop(['Payment_Behaviour', 'Payment_of_Min_Amount'], axis=1, inplace=True)"
   ]
  },
  {
   "cell_type": "code",
   "execution_count": 93,
   "id": "cb99afca",
   "metadata": {},
   "outputs": [
    {
     "data": {
      "text/html": [
       "<div>\n",
       "<style scoped>\n",
       "    .dataframe tbody tr th:only-of-type {\n",
       "        vertical-align: middle;\n",
       "    }\n",
       "\n",
       "    .dataframe tbody tr th {\n",
       "        vertical-align: top;\n",
       "    }\n",
       "\n",
       "    .dataframe thead th {\n",
       "        text-align: right;\n",
       "    }\n",
       "</style>\n",
       "<table border=\"1\" class=\"dataframe\">\n",
       "  <thead>\n",
       "    <tr style=\"text-align: right;\">\n",
       "      <th></th>\n",
       "      <th>Month</th>\n",
       "      <th>Age</th>\n",
       "      <th>Occupation</th>\n",
       "      <th>Annual_Income</th>\n",
       "      <th>Monthly_Inhand_Salary</th>\n",
       "      <th>Num_Bank_Accounts</th>\n",
       "      <th>Num_Credit_Card</th>\n",
       "      <th>Interest_Rate</th>\n",
       "      <th>Num_of_Loan</th>\n",
       "      <th>Delay_from_due_date</th>\n",
       "      <th>Num_of_Delayed_Payment</th>\n",
       "      <th>Changed_Credit_Limit</th>\n",
       "      <th>Num_Credit_Inquiries</th>\n",
       "      <th>Credit_Mix</th>\n",
       "      <th>Outstanding_Debt</th>\n",
       "      <th>Credit_Utilization_Ratio</th>\n",
       "      <th>Credit_History_Age</th>\n",
       "      <th>Total_EMI_per_month</th>\n",
       "      <th>Amount_invested_monthly</th>\n",
       "      <th>Monthly_Balance</th>\n",
       "      <th>Credit_Score</th>\n",
       "      <th>Payment_Behaviour_High_spent_Medium_value_payments</th>\n",
       "      <th>Payment_Behaviour_High_spent_Small_value_payments</th>\n",
       "      <th>Payment_Behaviour_Low_spent_Large_value_payments</th>\n",
       "      <th>Payment_Behaviour_Low_spent_Medium_value_payments</th>\n",
       "      <th>Payment_Behaviour_Low_spent_Small_value_payments</th>\n",
       "      <th>Payment_of_Min_Amount_No</th>\n",
       "      <th>Payment_of_Min_Amount_Yes</th>\n",
       "    </tr>\n",
       "  </thead>\n",
       "  <tbody>\n",
       "    <tr>\n",
       "      <th>0</th>\n",
       "      <td>3</td>\n",
       "      <td>23.0</td>\n",
       "      <td>6744</td>\n",
       "      <td>19114.12</td>\n",
       "      <td>1824.843333</td>\n",
       "      <td>3.0</td>\n",
       "      <td>4.0</td>\n",
       "      <td>3.0</td>\n",
       "      <td>4.0</td>\n",
       "      <td>3</td>\n",
       "      <td>4.0</td>\n",
       "      <td>11.27</td>\n",
       "      <td>4.0</td>\n",
       "      <td>2</td>\n",
       "      <td>809.98</td>\n",
       "      <td>26.822620</td>\n",
       "      <td>265.0</td>\n",
       "      <td>49.574949</td>\n",
       "      <td>98.35409</td>\n",
       "      <td>304.555294</td>\n",
       "      <td>2</td>\n",
       "      <td>0</td>\n",
       "      <td>1</td>\n",
       "      <td>0</td>\n",
       "      <td>0</td>\n",
       "      <td>0</td>\n",
       "      <td>1</td>\n",
       "      <td>0</td>\n",
       "    </tr>\n",
       "    <tr>\n",
       "      <th>1</th>\n",
       "      <td>2</td>\n",
       "      <td>23.0</td>\n",
       "      <td>6744</td>\n",
       "      <td>19114.12</td>\n",
       "      <td>1824.843333</td>\n",
       "      <td>3.0</td>\n",
       "      <td>4.0</td>\n",
       "      <td>3.0</td>\n",
       "      <td>4.0</td>\n",
       "      <td>-1</td>\n",
       "      <td>4.0</td>\n",
       "      <td>11.27</td>\n",
       "      <td>4.0</td>\n",
       "      <td>2</td>\n",
       "      <td>809.98</td>\n",
       "      <td>31.944960</td>\n",
       "      <td>265.0</td>\n",
       "      <td>49.574949</td>\n",
       "      <td>98.35409</td>\n",
       "      <td>304.555294</td>\n",
       "      <td>2</td>\n",
       "      <td>0</td>\n",
       "      <td>0</td>\n",
       "      <td>1</td>\n",
       "      <td>0</td>\n",
       "      <td>0</td>\n",
       "      <td>1</td>\n",
       "      <td>0</td>\n",
       "    </tr>\n",
       "    <tr>\n",
       "      <th>2</th>\n",
       "      <td>6</td>\n",
       "      <td>23.0</td>\n",
       "      <td>6744</td>\n",
       "      <td>19114.12</td>\n",
       "      <td>1824.843333</td>\n",
       "      <td>3.0</td>\n",
       "      <td>4.0</td>\n",
       "      <td>3.0</td>\n",
       "      <td>4.0</td>\n",
       "      <td>3</td>\n",
       "      <td>4.0</td>\n",
       "      <td>11.27</td>\n",
       "      <td>4.0</td>\n",
       "      <td>2</td>\n",
       "      <td>809.98</td>\n",
       "      <td>28.609352</td>\n",
       "      <td>267.0</td>\n",
       "      <td>49.574949</td>\n",
       "      <td>98.35409</td>\n",
       "      <td>304.555294</td>\n",
       "      <td>2</td>\n",
       "      <td>0</td>\n",
       "      <td>0</td>\n",
       "      <td>0</td>\n",
       "      <td>1</td>\n",
       "      <td>0</td>\n",
       "      <td>1</td>\n",
       "      <td>0</td>\n",
       "    </tr>\n",
       "    <tr>\n",
       "      <th>3</th>\n",
       "      <td>0</td>\n",
       "      <td>23.0</td>\n",
       "      <td>6744</td>\n",
       "      <td>19114.12</td>\n",
       "      <td>1824.843333</td>\n",
       "      <td>3.0</td>\n",
       "      <td>4.0</td>\n",
       "      <td>3.0</td>\n",
       "      <td>4.0</td>\n",
       "      <td>5</td>\n",
       "      <td>4.0</td>\n",
       "      <td>11.27</td>\n",
       "      <td>4.0</td>\n",
       "      <td>2</td>\n",
       "      <td>809.98</td>\n",
       "      <td>31.377862</td>\n",
       "      <td>268.0</td>\n",
       "      <td>49.574949</td>\n",
       "      <td>98.35409</td>\n",
       "      <td>304.555294</td>\n",
       "      <td>2</td>\n",
       "      <td>0</td>\n",
       "      <td>0</td>\n",
       "      <td>0</td>\n",
       "      <td>0</td>\n",
       "      <td>1</td>\n",
       "      <td>1</td>\n",
       "      <td>0</td>\n",
       "    </tr>\n",
       "    <tr>\n",
       "      <th>4</th>\n",
       "      <td>7</td>\n",
       "      <td>23.0</td>\n",
       "      <td>6744</td>\n",
       "      <td>19114.12</td>\n",
       "      <td>1824.843333</td>\n",
       "      <td>3.0</td>\n",
       "      <td>4.0</td>\n",
       "      <td>3.0</td>\n",
       "      <td>4.0</td>\n",
       "      <td>6</td>\n",
       "      <td>4.0</td>\n",
       "      <td>11.27</td>\n",
       "      <td>4.0</td>\n",
       "      <td>2</td>\n",
       "      <td>809.98</td>\n",
       "      <td>24.797347</td>\n",
       "      <td>269.0</td>\n",
       "      <td>49.574949</td>\n",
       "      <td>98.35409</td>\n",
       "      <td>304.555294</td>\n",
       "      <td>2</td>\n",
       "      <td>1</td>\n",
       "      <td>0</td>\n",
       "      <td>0</td>\n",
       "      <td>0</td>\n",
       "      <td>0</td>\n",
       "      <td>1</td>\n",
       "      <td>0</td>\n",
       "    </tr>\n",
       "  </tbody>\n",
       "</table>\n",
       "</div>"
      ],
      "text/plain": [
       "   Month   Age  Occupation  Annual_Income  Monthly_Inhand_Salary  \\\n",
       "0      3  23.0        6744       19114.12            1824.843333   \n",
       "1      2  23.0        6744       19114.12            1824.843333   \n",
       "2      6  23.0        6744       19114.12            1824.843333   \n",
       "3      0  23.0        6744       19114.12            1824.843333   \n",
       "4      7  23.0        6744       19114.12            1824.843333   \n",
       "\n",
       "   Num_Bank_Accounts  Num_Credit_Card  Interest_Rate  Num_of_Loan  \\\n",
       "0                3.0              4.0            3.0          4.0   \n",
       "1                3.0              4.0            3.0          4.0   \n",
       "2                3.0              4.0            3.0          4.0   \n",
       "3                3.0              4.0            3.0          4.0   \n",
       "4                3.0              4.0            3.0          4.0   \n",
       "\n",
       "   Delay_from_due_date  Num_of_Delayed_Payment  Changed_Credit_Limit  \\\n",
       "0                    3                     4.0                 11.27   \n",
       "1                   -1                     4.0                 11.27   \n",
       "2                    3                     4.0                 11.27   \n",
       "3                    5                     4.0                 11.27   \n",
       "4                    6                     4.0                 11.27   \n",
       "\n",
       "   Num_Credit_Inquiries  Credit_Mix  Outstanding_Debt  \\\n",
       "0                   4.0           2            809.98   \n",
       "1                   4.0           2            809.98   \n",
       "2                   4.0           2            809.98   \n",
       "3                   4.0           2            809.98   \n",
       "4                   4.0           2            809.98   \n",
       "\n",
       "   Credit_Utilization_Ratio  Credit_History_Age  Total_EMI_per_month  \\\n",
       "0                 26.822620               265.0            49.574949   \n",
       "1                 31.944960               265.0            49.574949   \n",
       "2                 28.609352               267.0            49.574949   \n",
       "3                 31.377862               268.0            49.574949   \n",
       "4                 24.797347               269.0            49.574949   \n",
       "\n",
       "   Amount_invested_monthly  Monthly_Balance  Credit_Score  \\\n",
       "0                 98.35409       304.555294             2   \n",
       "1                 98.35409       304.555294             2   \n",
       "2                 98.35409       304.555294             2   \n",
       "3                 98.35409       304.555294             2   \n",
       "4                 98.35409       304.555294             2   \n",
       "\n",
       "   Payment_Behaviour_High_spent_Medium_value_payments  \\\n",
       "0                                                  0    \n",
       "1                                                  0    \n",
       "2                                                  0    \n",
       "3                                                  0    \n",
       "4                                                  1    \n",
       "\n",
       "   Payment_Behaviour_High_spent_Small_value_payments  \\\n",
       "0                                                  1   \n",
       "1                                                  0   \n",
       "2                                                  0   \n",
       "3                                                  0   \n",
       "4                                                  0   \n",
       "\n",
       "   Payment_Behaviour_Low_spent_Large_value_payments  \\\n",
       "0                                                 0   \n",
       "1                                                 1   \n",
       "2                                                 0   \n",
       "3                                                 0   \n",
       "4                                                 0   \n",
       "\n",
       "   Payment_Behaviour_Low_spent_Medium_value_payments  \\\n",
       "0                                                  0   \n",
       "1                                                  0   \n",
       "2                                                  1   \n",
       "3                                                  0   \n",
       "4                                                  0   \n",
       "\n",
       "   Payment_Behaviour_Low_spent_Small_value_payments  Payment_of_Min_Amount_No  \\\n",
       "0                                                 0                         1   \n",
       "1                                                 0                         1   \n",
       "2                                                 0                         1   \n",
       "3                                                 1                         1   \n",
       "4                                                 0                         1   \n",
       "\n",
       "   Payment_of_Min_Amount_Yes  \n",
       "0                          0  \n",
       "1                          0  \n",
       "2                          0  \n",
       "3                          0  \n",
       "4                          0  "
      ]
     },
     "execution_count": 93,
     "metadata": {},
     "output_type": "execute_result"
    }
   ],
   "source": [
    "traindata.head()"
   ]
  },
  {
   "cell_type": "code",
   "execution_count": 94,
   "id": "c07becb1",
   "metadata": {},
   "outputs": [
    {
     "data": {
      "text/plain": [
       "Month                                                   int32\n",
       "Age                                                   float64\n",
       "Occupation                                              int64\n",
       "Annual_Income                                         float64\n",
       "Monthly_Inhand_Salary                                 float64\n",
       "Num_Bank_Accounts                                     float64\n",
       "Num_Credit_Card                                       float64\n",
       "Interest_Rate                                         float64\n",
       "Num_of_Loan                                           float64\n",
       "Delay_from_due_date                                     int64\n",
       "Num_of_Delayed_Payment                                float64\n",
       "Changed_Credit_Limit                                  float64\n",
       "Num_Credit_Inquiries                                  float64\n",
       "Credit_Mix                                              int32\n",
       "Outstanding_Debt                                      float64\n",
       "Credit_Utilization_Ratio                              float64\n",
       "Credit_History_Age                                    float64\n",
       "Total_EMI_per_month                                   float64\n",
       "Amount_invested_monthly                               float64\n",
       "Monthly_Balance                                       float64\n",
       "Credit_Score                                            int32\n",
       "Payment_Behaviour_High_spent_Medium_value_payments      uint8\n",
       "Payment_Behaviour_High_spent_Small_value_payments       uint8\n",
       "Payment_Behaviour_Low_spent_Large_value_payments        uint8\n",
       "Payment_Behaviour_Low_spent_Medium_value_payments       uint8\n",
       "Payment_Behaviour_Low_spent_Small_value_payments        uint8\n",
       "Payment_of_Min_Amount_No                                uint8\n",
       "Payment_of_Min_Amount_Yes                               uint8\n",
       "dtype: object"
      ]
     },
     "execution_count": 94,
     "metadata": {},
     "output_type": "execute_result"
    }
   ],
   "source": [
    "traindata.dtypes"
   ]
  },
  {
   "cell_type": "markdown",
   "id": "8ac77472",
   "metadata": {},
   "source": [
    "### Data Splitting"
   ]
  },
  {
   "cell_type": "code",
   "execution_count": 95,
   "id": "3e2db6b0",
   "metadata": {},
   "outputs": [],
   "source": [
    "X=traindata.drop(['Credit_Score'], axis=1)"
   ]
  },
  {
   "cell_type": "code",
   "execution_count": 96,
   "id": "34ed8916",
   "metadata": {},
   "outputs": [],
   "source": [
    "y=traindata['Credit_Score']"
   ]
  },
  {
   "cell_type": "code",
   "execution_count": 97,
   "id": "5e537c56",
   "metadata": {},
   "outputs": [],
   "source": [
    "sm=SMOTE()\n",
    "X,y= sm.fit_resample(X,y)"
   ]
  },
  {
   "cell_type": "code",
   "execution_count": 98,
   "id": "ed554481",
   "metadata": {},
   "outputs": [
    {
     "data": {
      "text/plain": [
       "(159507, 27)"
      ]
     },
     "execution_count": 98,
     "metadata": {},
     "output_type": "execute_result"
    }
   ],
   "source": [
    "X.shape"
   ]
  },
  {
   "cell_type": "code",
   "execution_count": 99,
   "id": "fd19eb40",
   "metadata": {},
   "outputs": [
    {
     "data": {
      "text/plain": [
       "2    53169\n",
       "1    53169\n",
       "0    53169\n",
       "Name: Credit_Score, dtype: int64"
      ]
     },
     "execution_count": 99,
     "metadata": {},
     "output_type": "execute_result"
    }
   ],
   "source": [
    "y.value_counts()"
   ]
  },
  {
   "cell_type": "code",
   "execution_count": 100,
   "id": "00deb700",
   "metadata": {},
   "outputs": [],
   "source": [
    "X_train, X_test, y_train, y_test= train_test_split(X, y, test_size=0.2, random_state=1)"
   ]
  },
  {
   "cell_type": "markdown",
   "id": "85b3da8a",
   "metadata": {},
   "source": [
    "### Scaling"
   ]
  },
  {
   "cell_type": "code",
   "execution_count": 101,
   "id": "2803ce70",
   "metadata": {},
   "outputs": [],
   "source": [
    "num_columns=num_df.columns"
   ]
  },
  {
   "cell_type": "code",
   "execution_count": 102,
   "id": "627b0966",
   "metadata": {},
   "outputs": [],
   "source": [
    "scalar = PowerTransformer()"
   ]
  },
  {
   "cell_type": "code",
   "execution_count": 103,
   "id": "2d7c7b82",
   "metadata": {},
   "outputs": [],
   "source": [
    "X_train[num_columns]=scalar.fit_transform(X_train[num_columns])"
   ]
  },
  {
   "cell_type": "code",
   "execution_count": 104,
   "id": "a2002f17",
   "metadata": {},
   "outputs": [],
   "source": [
    "import numpy as np"
   ]
  },
  {
   "cell_type": "code",
   "execution_count": 105,
   "id": "88751160",
   "metadata": {},
   "outputs": [],
   "source": [
    "X_test[num_columns]=scalar.transform(X_test[num_columns])"
   ]
  },
  {
   "cell_type": "code",
   "execution_count": 106,
   "id": "ac197adb",
   "metadata": {},
   "outputs": [
    {
     "name": "stderr",
     "output_type": "stream",
     "text": [
      "UsageError: Line magic function `%%time` not found.\n"
     ]
    }
   ],
   "source": [
    "# Model Building\n",
    "\n",
    "### XGBClassifier\n",
    "\n",
    "xgb_cl=XGBClassifier(learning_rate=0.1,\n",
    " n_estimators=250,\n",
    " max_depth=8,\n",
    " min_child_weight=1,\n",
    " gamma=0,\n",
    " subsample=0.9,\n",
    " n_jobs=-1,\n",
    " tree_method='gpu_hist')\n",
    "\n",
    "%%time\n",
    "xgb_cl.fit(X_train, y_train)\n",
    "\n",
    "ytestpred=xgb_cl.predict(X_test)\n",
    "\n",
    "accuracy_score(y_test, ytestpred)\n",
    "\n",
    "print(classification_report(y_test, ytestpred))\n",
    "\n",
    "a = {'Poor': 0, 'Standard': 1, 'Good': 2}\n",
    "labels=list(a.keys())\n",
    "\n",
    "cm=confusion_matrix(y_test, ytestpred)\n",
    "\n",
    "import seaborn as sns\n",
    "plt.figure(figsize=(5,5))\n",
    "sns.heatmap(cm, annot=True, cmap='jet', fmt='d', linewidths=1, xticklabels=labels, yticklabels=labels)\n",
    "plt.show()\n",
    "\n",
    "display=ConfusionMatrixDisplay(confusion_matrix=cm, display_labels=labels)\n",
    "display.plot()\n",
    "\n",
    "imp=xgb_cl.feature_importances_\n",
    "\n",
    "\n",
    "def plot_feature_importances(coefficients, columns):\n",
    "    features=pd.DataFrame(coefficients*100, columns).reset_index()\n",
    "    features.columns=['Features', 'Importances']\n",
    "    features=features.sort_values(by='Importances', ascending=False)\n",
    "    sns.barplot(x='Importances', y='Features', data=features)\n",
    "    plt.xlabel('')\n",
    "    plt.ylabel('')\n",
    "    plt.show()\n",
    "    return features\n",
    "\n",
    "top_features=plot_feature_importances(xgb_cl.feature_importances_, X_train.columns)\n",
    "\n",
    "\n"
   ]
  },
  {
   "cell_type": "code",
   "execution_count": null,
   "id": "9240b097",
   "metadata": {},
   "outputs": [],
   "source": []
  }
 ],
 "metadata": {
  "kernelspec": {
   "display_name": "Python 3 (ipykernel)",
   "language": "python",
   "name": "python3"
  },
  "language_info": {
   "codemirror_mode": {
    "name": "ipython",
    "version": 3
   },
   "file_extension": ".py",
   "mimetype": "text/x-python",
   "name": "python",
   "nbconvert_exporter": "python",
   "pygments_lexer": "ipython3",
   "version": "3.10.9"
  }
 },
 "nbformat": 4,
 "nbformat_minor": 5
}
